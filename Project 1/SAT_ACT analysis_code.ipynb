{
 "cells": [
  {
   "cell_type": "markdown",
   "metadata": {},
   "source": [
    "<img src=\"http://imgur.com/1ZcRyrc.png\" style=\"float: left; margin: 20px; height: 55px\">\n",
    "\n",
    "# Project 1: Standardized Test Analysis"
   ]
  },
  {
   "cell_type": "markdown",
   "metadata": {},
   "source": [
    "--- \n",
    "# Part 1\n",
    "\n",
    "Part 1 requires knowledge of basic Python.\n",
    "\n",
    "---"
   ]
  },
  {
   "cell_type": "markdown",
   "metadata": {},
   "source": [
    "## Problem Statement"
   ]
  },
  {
   "cell_type": "markdown",
   "metadata": {},
   "source": [
    "The new format for the SAT was released in March 2016. The levels of participation amongst US states are expected to change as a result of the new format as well as new legislative decisions introduced since then. This project aims to explore SAT and ACT participation and test scores from 2017 and 2018, and seeks to identify states where efforts could be invested to increase SAT participation rates."
   ]
  },
  {
   "cell_type": "markdown",
   "metadata": {},
   "source": [
    "### Contents:\n",
    "- [Background](#Background)\n",
    "- [Data Import & Cleaning](#Data-Import-and-Cleaning)\n",
    "- [Exploratory Data Analysis](#Exploratory-Data-Analysis)\n",
    "- [Data Visualization](#Visualize-the-Data)\n",
    "- [Conclusions and Recommendations](#Conclusions-and-Recommendations)"
   ]
  },
  {
   "cell_type": "markdown",
   "metadata": {},
   "source": [
    "## Background"
   ]
  },
  {
   "cell_type": "markdown",
   "metadata": {},
   "source": [
    "#### About standardised tests in the United States\n",
    "The SAT and ACT are standardized tests that many colleges and universities in the United States require for their admissions process. This score is used along with other materials such as grade point average (GPA) and essay responses to determine whether or not a potential student will be accepted to the university. The SAT is developed and owned by the College Board, which is a not-for-profit organization that was created to connects students to college success and opportunity and expand access to higher education. College Board also provides support to students and schools via scholarships and prep training initiatives. The ACT is administered by ACT Inc, a non-profit organisation which has a similar mission to the College Board.\n",
    "\n",
    "#### About SAT and ACT\n",
    "The SAT has two sections of the test: Evidence-Based Reading and Writing and Math ([*source*](https://www.princetonreview.com/college/sat-sections)). Each section of the test has a score range of 200 - 800. A total score is calculated by adding up the score from the 2 sections.\n",
    "\n",
    "The ACT has 4 sections: English, Mathematics, Reading, and Science, with an additional optional writing section ([*source*](https://www.act.org/content/act/en/products-and-services/the-act/scores/understanding-your-scores.html)). Each of the 4 sections have a score range of 1 - 36, with a composite score provided calculated as the rounded average of the 4 scores.\n",
    "\n",
    "More info about SAT and ACT can be found in the links below:\n",
    "* [SAT](https://collegereadiness.collegeboard.org/sat)\n",
    "* [ACT](https://www.act.org/content/act/en.html)\n",
    "\n",
    "#### Decline in popularity of standardised tests\n",
    "Standardized tests have long been a controversial topic for students, administrators, and legislators. Since the 1940's, an increasing number of colleges have been using scores from sudents' performances on tests like the SAT and the ACT as a measure for college readiness and aptitude ([*source*](https://www.minotdailynews.com/news/local-news/2017/04/a-brief-history-of-the-sat-and-act/)). Supporters of these tests argue that these scores can be used as an objective measure to determine college admittance. Opponents of these tests claim that these tests are not accurate measures of students potential or ability and serve as an inequitable barrier to entry. Lately, more and more schools are opting to drop the SAT/ACT requirement for their Fall 2021 applications ([*read more about this here*](https://www.cnn.com/2020/04/14/us/coronavirus-colleges-sat-act-test-trnd/index.html)). While historically SAT has been the more popular test among high school graduates, the share of students taking the SAT has been gradually increasing. [(source)](https://www.edweek.org/teaching-learning/act-scores-improve-more-on-east-coast-taking-the-sats-rival/2006/08). \n",
    "\n",
    "#### Approach of this study\n",
    "This study aims to identify the trends in SAT and ACT participation rates and scores, based on state-level statistics from continental US for 2017 and 2018, which are the 2 years following the enactment of the revised SAT format. The report will conclude with preliminary recommendations on which states to target for initial trials to improve SAT participation rates as well as brief discussion for future studies to refine the results.\n",
    "\n",
    "This analysis follows the below approach:\n",
    "1. Data cleaning\n",
    "\n",
    "2. Data exploration to identify trends and correlations in relation to real-world developments\n",
    "\n",
    "3. Define potential approach to shortlist states for preliminary trials\n",
    "\n",
    "4. Identifying states which fit the defined criteria, and discuss approach for future studies"
   ]
  },
  {
   "cell_type": "markdown",
   "metadata": {},
   "source": [
    "### Choose your Data \n",
    "\n",
    "There are 10 datasets included in the [`data`](./data/) folder for this project. You are required to pick **at least two** of these to complete your analysis. Feel free to use more than two if you would like, or add other relevant datasets you find online.\n",
    "\n",
    "* [`act_2017.csv`](./data/act_2017.csv): 2017 ACT Scores by State\n",
    "* [`act_2018.csv`](./data/act_2018.csv): 2018 ACT Scores by State\n",
    "* [`act_2019.csv`](./data/act_2019.csv): 2019 ACT Scores by State\n",
    "* [`act_2019_ca.csv`](./data/act_2019_ca.csv): 2019 ACT Scores in California by School\n",
    "* [`sat_2017.csv`](./data/sat_2017.csv): 2017 SAT Scores by State\n",
    "* [`sat_2018.csv`](./data/sat_2018.csv): 2018 SAT Scores by State\n",
    "* [`sat_2019.csv`](./data/sat_2019.csv): 2019 SAT Scores by State\n",
    "* [`sat_2019_by_intended_college_major.csv`](./data/sat_2019_by_intended_college_major.csv): 2019 SAT Scores by Intended College Major\n",
    "* [`sat_2019_ca.csv`](./data/sat_2019_ca.csv): 2019 SAT Scores in California by School\n",
    "* [`sat_act_by_college.csv`](./data/sat_act_by_college.csv): Ranges of Accepted ACT & SAT Student Scores by Colleges"
   ]
  },
  {
   "cell_type": "markdown",
   "metadata": {},
   "source": [
    "### Datasets used in this study\n",
    "\n",
    "This study will use the following datasets: \n",
    "\n",
    "1. ACT participation rate, subject and total scores by state (including District of Columbia), for [2017](https://blog.prepscholar.com/act-scores-by-state-averages-highs-and-lows) and [2018](https://blog.prepscholar.com/act-scores-by-state-averages-highs-and-lows).\n",
    "\n",
    "2. SAT participation rate, subject and total scores by state (including District of Columbia), for [2017](https://blog.collegevine.com/here-are-the-average-sat-scores-by-state/) and [2018](https://blog.collegevine.com/here-are-the-average-sat-scores-by-state/). \n",
    "\n",
    "3. Supplementary sources of data: [ACT 2017](https://www.act.org/content/dam/act/unsecured/documents/cccr2017/ACT_2017-Average_Scores_by_State.pdf), [ACT 2018](https://nces.ed.gov/programs/digest/d18/tables/dt18_226.60.asp), [SAT 2017](https://nces.ed.gov/programs/digest/d17/tables/dt17_226.40.asp), [SAT 2018](https://nces.ed.gov/programs/digest/d19/tables/dt19_226.40.asp)"
   ]
  },
  {
   "cell_type": "markdown",
   "metadata": {},
   "source": [
    "### Outside Research"
   ]
  },
  {
   "cell_type": "markdown",
   "metadata": {},
   "source": [
    "Based on your problem statement and your chosen datasets, spend some time doing outside research on state policies or additional information that might be relevant. Summarize your findings below. If you bring in any outside tables or charts, make sure you are explicit about having borrowed them. If you quote any text, make sure that it renders as being quoted. **Make sure that you cite your sources.**"
   ]
  },
  {
   "cell_type": "markdown",
   "metadata": {},
   "source": [
    "\n",
    "### Different state policies\n",
    "\n",
    "Various states in the US support test-taking of SAT, ACT or both. In states where a particular test is supported, e.g. mandatory for high school graduates to take the test, free testing, etc, a very high participation rate is usually observed.  While state policies change over time, the following is a snapshot of various states' support for SAT and ACT as of 2019 [(source)](https://www.erikthered.com/tutor/sat-act-history.html).\n",
    "\n",
    "* Support for ACT : Colorado, Illinois, Michigan, Wyoming, Kentucky, Tennessee, North Dakota, North Carolina, Montana, Louisiana, Hawaii, Utah, Alabama, Idaho, Nevada, Wisconsin, South Carolina, Missouri, Mississippi, Minnesota, Nebraska, Tennessee, Ohio , Oklahoma\n",
    "* Support for SAT : Maine, Delaware, Idaho, Michigan, Colorado, New Hampshire, Connecticut, Illinois, Rhode Island, Tennessee, Ohio, West Virginia, South Carolina, Oklahoma, \n"
   ]
  },
  {
   "cell_type": "markdown",
   "metadata": {},
   "source": [
    "### Coding Challenges\n",
    "\n",
    "1. Manually calculate mean:\n",
    "\n",
    "    Write a function that takes in values and returns the mean of the values. Create a list of numbers that you test on your function to check to make sure your function works!\n",
    "    \n",
    "    *Note*: Do not use any mean methods built-in to any Python libraries to do this! This should be done without importing any additional libraries."
   ]
  },
  {
   "cell_type": "code",
   "execution_count": 1,
   "metadata": {},
   "outputs": [],
   "source": [
    "# Code:\n",
    "def average(nums):\n",
    "    return sum(nums)/len(nums)"
   ]
  },
  {
   "cell_type": "code",
   "execution_count": 2,
   "metadata": {},
   "outputs": [
    {
     "data": {
      "text/plain": [
       "3.0"
      ]
     },
     "execution_count": 2,
     "metadata": {},
     "output_type": "execute_result"
    }
   ],
   "source": [
    "# check to see if the function works\n",
    "average([1,2,3,4,5])"
   ]
  },
  {
   "cell_type": "markdown",
   "metadata": {},
   "source": [
    "2. Manually calculate standard deviation:\n",
    "\n",
    "    The formula for standard deviation is below:\n",
    "\n",
    "    $$\\sigma = \\sqrt{\\frac{1}{n}\\sum_{i=1}^n(x_i - \\mu)^2}$$\n",
    "\n",
    "    Where $x_i$ represents each value in the dataset, $\\mu$ represents the mean of all values in the dataset and $n$ represents the number of values in the dataset.\n",
    "\n",
    "    Write a function that takes in values and returns the standard deviation of the values using the formula above. Hint: use the function you wrote above to calculate the mean! Use the list of numbers you created above to test on your function.\n",
    "    \n",
    "    *Note*: Do not use any standard deviation methods built-in to any Python libraries to do this! This should be done without importing any additional libraries."
   ]
  },
  {
   "cell_type": "code",
   "execution_count": 3,
   "metadata": {},
   "outputs": [],
   "source": [
    "# Code:\n",
    "def standard_deviation(nums):\n",
    "    sum_sq = 0\n",
    "    for i in range(len(nums)):\n",
    "        sum_sq += (nums[i] - average(nums))**2\n",
    "    return (sum_sq/len(nums))**0.5"
   ]
  },
  {
   "cell_type": "code",
   "execution_count": 4,
   "metadata": {},
   "outputs": [
    {
     "data": {
      "text/plain": [
       "1.4142135623730951"
      ]
     },
     "execution_count": 4,
     "metadata": {},
     "output_type": "execute_result"
    }
   ],
   "source": [
    "# check to see if the function works\n",
    "standard_deviation([1,2,3,4,5])"
   ]
  },
  {
   "cell_type": "markdown",
   "metadata": {},
   "source": [
    "3. Data cleaning function:\n",
    "    \n",
    "    Write a function that takes in a string that is a number and a percent symbol (ex. '50%', '30.5%', etc.) and converts this to a float that is the decimal approximation of the percent. For example, inputting '50%' in your function should return 0.5, '30.5%' should return 0.305, etc. Make sure to test your function to make sure it works!\n",
    "\n",
    "You will use these functions later on in the project!"
   ]
  },
  {
   "cell_type": "code",
   "execution_count": 5,
   "metadata": {},
   "outputs": [],
   "source": [
    "# Code:\n",
    "def to_float(percent):\n",
    "    return float(percent.rstrip('%'))/100"
   ]
  },
  {
   "cell_type": "code",
   "execution_count": 6,
   "metadata": {},
   "outputs": [
    {
     "data": {
      "text/plain": [
       "0.225"
      ]
     },
     "execution_count": 6,
     "metadata": {},
     "output_type": "execute_result"
    }
   ],
   "source": [
    "# check to see if the function works\n",
    "to_float('22.5%')"
   ]
  },
  {
   "cell_type": "markdown",
   "metadata": {},
   "source": [
    "--- \n",
    "# Part 2\n",
    "\n",
    "Part 2 requires knowledge of Pandas, EDA, data cleaning, and data visualization.\n",
    "\n",
    "---"
   ]
  },
  {
   "cell_type": "markdown",
   "metadata": {},
   "source": [
    "*All libraries used should be added here*"
   ]
  },
  {
   "cell_type": "code",
   "execution_count": 7,
   "metadata": {},
   "outputs": [],
   "source": [
    "# Import necessary libraries:\n",
    "import pandas as pd\n",
    "import numpy as np\n",
    "import matplotlib.pyplot as plt\n",
    "import seaborn as sns\n",
    "import re"
   ]
  },
  {
   "cell_type": "markdown",
   "metadata": {},
   "source": [
    "## Data Import and Cleaning"
   ]
  },
  {
   "cell_type": "markdown",
   "metadata": {},
   "source": [
    "### Data Import & Cleaning\n",
    "\n",
    "Import the datasets that you selected for this project and go through the following steps at a minimum. You are welcome to do further cleaning as you feel necessary:\n",
    "1. Display the data: print the first 5 rows of each dataframe to your Jupyter notebook.\n",
    "2. Check for missing values.\n",
    "3. Check for any obvious issues with the observations (keep in mind the minimum & maximum possible values for each test/subtest).\n",
    "4. Fix any errors you identified in steps 2-3.\n",
    "5. Display the data types of each feature.\n",
    "6. Fix any incorrect data types found in step 5.\n",
    "    - Fix any individual values preventing other columns from being the appropriate type.\n",
    "    - If your dataset has a column of percents (ex. '50%', '30.5%', etc.), use the function you wrote in Part 1 (coding challenges, number 3) to convert this to floats! *Hint*: use `.map()` or `.apply()`.\n",
    "7. Rename Columns.\n",
    "    - Column names should be all lowercase.\n",
    "    - Column names should not contain spaces (underscores will suffice--this allows for using the `df.column_name` method to access columns in addition to `df['column_name']`).\n",
    "    - Column names should be unique and informative.\n",
    "8. Drop unnecessary rows (if needed).\n",
    "9. Merge dataframes that can be merged.\n",
    "10. Perform any additional cleaning that you feel is necessary.\n",
    "11. Save your cleaned and merged dataframes as csv files."
   ]
  },
  {
   "cell_type": "code",
   "execution_count": 8,
   "metadata": {},
   "outputs": [
    {
     "name": "stdout",
     "output_type": "stream",
     "text": [
      "Overview for act_2017:\n",
      "\n",
      "<class 'pandas.core.frame.DataFrame'>\n",
      "RangeIndex: 52 entries, 0 to 51\n",
      "Data columns (total 7 columns):\n",
      " #   Column         Non-Null Count  Dtype  \n",
      "---  ------         --------------  -----  \n",
      " 0   State          52 non-null     object \n",
      " 1   Participation  52 non-null     object \n",
      " 2   English        52 non-null     float64\n",
      " 3   Math           52 non-null     float64\n",
      " 4   Reading        52 non-null     float64\n",
      " 5   Science        52 non-null     float64\n",
      " 6   Composite      52 non-null     object \n",
      "dtypes: float64(4), object(3)\n",
      "memory usage: 3.0+ KB\n",
      "\n",
      "None\n",
      "\n",
      "Preview for act_2017:\n",
      "       State Participation  English  Math  Reading  Science Composite\n",
      "0  National           60%     20.3  20.7     21.4     21.0      21.0\n",
      "1   Alabama          100%     18.9  18.4     19.7     19.4      19.2\n",
      "2    Alaska           65%     18.7  19.8     20.4     19.9      19.8\n",
      "3   Arizona           62%     18.6  19.8     20.1     19.8      19.7\n",
      "4  Arkansas          100%     18.9  19.0     19.7     19.5      19.4\n",
      "\n",
      "Basic stats for act_2017:\n",
      "          English       Math    Reading    Science\n",
      "count  52.000000  52.000000  52.000000  52.000000\n",
      "mean   20.919231  21.173077  22.001923  21.040385\n",
      "std     2.332132   1.963602   2.048672   3.151113\n",
      "min    16.300000  18.000000  18.100000   2.300000\n",
      "25%    19.000000  19.400000  20.475000  19.900000\n",
      "50%    20.550000  20.900000  21.700000  21.150000\n",
      "75%    23.300000  23.100000  24.125000  22.525000\n",
      "max    25.500000  25.300000  26.000000  24.900000\n",
      "\n",
      "Overview for act_2018:\n",
      "\n",
      "<class 'pandas.core.frame.DataFrame'>\n",
      "RangeIndex: 52 entries, 0 to 51\n",
      "Data columns (total 3 columns):\n",
      " #   Column         Non-Null Count  Dtype  \n",
      "---  ------         --------------  -----  \n",
      " 0   State          52 non-null     object \n",
      " 1   Participation  52 non-null     object \n",
      " 2   Composite      52 non-null     float64\n",
      "dtypes: float64(1), object(2)\n",
      "memory usage: 1.3+ KB\n",
      "\n",
      "None\n",
      "\n",
      "Preview for act_2018:\n",
      "         State Participation  Composite\n",
      "0     Alabama          100%       19.1\n",
      "1      Alaska           33%       20.8\n",
      "2     Arizona           66%       19.2\n",
      "3    Arkansas          100%       19.4\n",
      "4  California           27%       22.7\n",
      "\n",
      "Basic stats for act_2018:\n",
      "        Composite\n",
      "count  52.000000\n",
      "mean   21.544231\n",
      "std     2.119417\n",
      "min    17.700000\n",
      "25%    19.975000\n",
      "50%    21.300000\n",
      "75%    23.725000\n",
      "max    25.600000\n",
      "\n",
      "Overview for sat_2017:\n",
      "\n",
      "<class 'pandas.core.frame.DataFrame'>\n",
      "RangeIndex: 51 entries, 0 to 50\n",
      "Data columns (total 5 columns):\n",
      " #   Column                              Non-Null Count  Dtype \n",
      "---  ------                              --------------  ----- \n",
      " 0   State                               51 non-null     object\n",
      " 1   Participation                       51 non-null     object\n",
      " 2   Evidence-Based Reading and Writing  51 non-null     int64 \n",
      " 3   Math                                51 non-null     int64 \n",
      " 4   Total                               51 non-null     int64 \n",
      "dtypes: int64(3), object(2)\n",
      "memory usage: 2.1+ KB\n",
      "\n",
      "None\n",
      "\n",
      "Preview for sat_2017:\n",
      "         State Participation  Evidence-Based Reading and Writing  Math  Total\n",
      "0     Alabama            5%                                 593   572   1165\n",
      "1      Alaska           38%                                 547   533   1080\n",
      "2     Arizona           30%                                 563   553   1116\n",
      "3    Arkansas            3%                                 614   594   1208\n",
      "4  California           53%                                 531   524   1055\n",
      "\n",
      "Basic stats for sat_2017:\n",
      "        Evidence-Based Reading and Writing        Math        Total\n",
      "count                           51.000000   51.000000    51.000000\n",
      "mean                           569.117647  547.627451  1126.098039\n",
      "std                             45.666901   84.909119    92.494812\n",
      "min                            482.000000   52.000000   950.000000\n",
      "25%                            533.500000  522.000000  1055.500000\n",
      "50%                            559.000000  548.000000  1107.000000\n",
      "75%                            613.000000  599.000000  1212.000000\n",
      "max                            644.000000  651.000000  1295.000000\n",
      "\n",
      "Overview for sat_2018:\n",
      "\n",
      "<class 'pandas.core.frame.DataFrame'>\n",
      "RangeIndex: 51 entries, 0 to 50\n",
      "Data columns (total 5 columns):\n",
      " #   Column                              Non-Null Count  Dtype \n",
      "---  ------                              --------------  ----- \n",
      " 0   State                               51 non-null     object\n",
      " 1   Participation                       51 non-null     object\n",
      " 2   Evidence-Based Reading and Writing  51 non-null     int64 \n",
      " 3   Math                                51 non-null     int64 \n",
      " 4   Total                               51 non-null     int64 \n",
      "dtypes: int64(3), object(2)\n",
      "memory usage: 2.1+ KB\n",
      "\n",
      "None\n",
      "\n",
      "Preview for sat_2018:\n",
      "         State Participation  Evidence-Based Reading and Writing  Math  Total\n",
      "0     Alabama            6%                                 595   571   1166\n",
      "1      Alaska           43%                                 562   544   1106\n",
      "2     Arizona           29%                                 577   572   1149\n",
      "3    Arkansas            5%                                 592   576   1169\n",
      "4  California           60%                                 540   536   1076\n",
      "\n",
      "Basic stats for sat_2018:\n",
      "        Evidence-Based Reading and Writing        Math        Total\n",
      "count                           51.000000   51.000000    51.000000\n",
      "mean                           563.686275  556.235294  1120.019608\n",
      "std                             47.502627   47.772623    94.155083\n",
      "min                            480.000000  480.000000   977.000000\n",
      "25%                            534.500000  522.500000  1057.500000\n",
      "50%                            552.000000  544.000000  1098.000000\n",
      "75%                            610.500000  593.500000  1204.000000\n",
      "max                            643.000000  655.000000  1298.000000\n",
      "\n"
     ]
    }
   ],
   "source": [
    "# Code:\n",
    "#0 Import SAT and ACT participation rates and scores for 2017 and 2018\n",
    "sat_2017 = pd.read_csv('data/sat_2017.csv')\n",
    "sat_2018 = pd.read_csv('data/sat_2018.csv')\n",
    "act_2017 = pd.read_csv('data/act_2017.csv')\n",
    "act_2018 = pd.read_csv('data/act_2018.csv')\n",
    "\n",
    "#dictionary of file and file names\n",
    "flist = {'act_2017':act_2017, 'act_2018':act_2018, 'sat_2017':sat_2017, 'sat_2018':sat_2018}\n",
    "\n",
    "#1 Display the data: print the first 5 rows of each dataframe to your Jupyter notebook.\n",
    "for name, file in flist.items():    \n",
    "    print(f\"Overview for {name}:\\n\")\n",
    "    print(f\"\\n{file.info()}\\n\")\n",
    "    print(f\"Preview for {name}:\\n {file.head()}\\n\")\n",
    "    print(f\"Basic stats for {name}:\\n {file.describe()}\\n\")"
   ]
  },
  {
   "cell_type": "markdown",
   "metadata": {},
   "source": [
    "### Initial observations\n",
    "\n",
    "act_2017:\n",
    "* 'Participation' and 'Composite' have numeric values but are listed as objects. Need to convert to int/float to facilitate later calculations. \n",
    "* Min score for 'Science' is within limit (min allowable score of 1) but unusually low (2.3) compared to that for other subjects \n",
    "* Number of rows (52) more than number of US states (should be 51, inclusive of District of Columbia (DC)\n",
    "\n",
    "act_2018:\n",
    "* Individual subject scores are missing. Need to import missing data from source (see websites below)\n",
    "* 'Participation' data has numeric values but is listed as object. Need to convert to int/float to facilitate later calculations. \n",
    "* Number of rows (52) more than number of US states (should be 51, inclusive of DC)\n",
    "\n",
    "sat_2017:\n",
    "* 'Participation' data has numeric values but is listed as object. Need to convert to int/float to facilitate later calculations. \n",
    "* Min score for math (52 is below lower limit for each SAT subject (200) - After checking with external data, the correct value should be 524. \n",
    "\n",
    "sat_2018:\n",
    "* 'Participation' data has numeric values but is listed as object. Need to convert to int/float to facilitate later calculations. \n",
    "\n",
    "Additional sources of data :\n",
    "\n",
    "Source of ACT 2017 data:\n",
    "https://www.act.org/content/dam/act/unsecured/documents/cccr2017/ACT_2017-Average_Scores_by_State.pdf\n",
    "\n",
    "Source of ACT 2018 data:\n",
    "https://nces.ed.gov/programs/digest/d18/tables/dt18_226.60.asp\n",
    "\n",
    "Source of SAT 2017 data:\n",
    "https://nces.ed.gov/programs/digest/d17/tables/dt17_226.40.asp\n",
    "\n",
    "Source of SAT 2018 data:\n",
    "https://nces.ed.gov/programs/digest/d19/tables/dt19_226.40.asp\n"
   ]
  },
  {
   "cell_type": "markdown",
   "metadata": {},
   "source": [
    "### Check for null values"
   ]
  },
  {
   "cell_type": "code",
   "execution_count": 9,
   "metadata": {},
   "outputs": [
    {
     "name": "stdout",
     "output_type": "stream",
     "text": [
      "act_2017:\n",
      " State            0\n",
      "Participation    0\n",
      "English          0\n",
      "Math             0\n",
      "Reading          0\n",
      "Science          0\n",
      "Composite        0\n",
      "dtype: int64 \n",
      "\n",
      "act_2018:\n",
      " State            0\n",
      "Participation    0\n",
      "Composite        0\n",
      "dtype: int64 \n",
      "\n",
      "sat_2017:\n",
      " State                                 0\n",
      "Participation                         0\n",
      "Evidence-Based Reading and Writing    0\n",
      "Math                                  0\n",
      "Total                                 0\n",
      "dtype: int64 \n",
      "\n",
      "sat_2018:\n",
      " State                                 0\n",
      "Participation                         0\n",
      "Evidence-Based Reading and Writing    0\n",
      "Math                                  0\n",
      "Total                                 0\n",
      "dtype: int64 \n",
      "\n"
     ]
    }
   ],
   "source": [
    "#2 Check for null values. \n",
    "for name, file in flist.items():    \n",
    "    print(f\"{name}:\\n {file.isnull().sum().sort_values(ascending=False)} \\n\") "
   ]
  },
  {
   "cell_type": "markdown",
   "metadata": {},
   "source": [
    "No null values found"
   ]
  },
  {
   "cell_type": "markdown",
   "metadata": {},
   "source": [
    "### Check for duplicate rows"
   ]
  },
  {
   "cell_type": "code",
   "execution_count": 10,
   "metadata": {},
   "outputs": [
    {
     "name": "stdout",
     "output_type": "stream",
     "text": [
      "act_2018 has a duplicated row\n",
      "\n",
      "Duplicated row is:\n",
      "     State Participation  Composite\n",
      "20  Maine            7%       24.0\n",
      "\n",
      "Showing all rows with 'Maine' as state:\n",
      "     State Participation  Composite\n",
      "19  Maine            7%       24.0\n",
      "20  Maine            7%       24.0\n"
     ]
    }
   ],
   "source": [
    "#check for duplicated states\n",
    "for name, file in flist.items():\n",
    "    dup_row = file[file.duplicated()]\n",
    "    if len(dup_row) > 0:\n",
    "        print(f\"{name} has a duplicated row\\n\")\n",
    "        print(f\"Duplicated row is:\\n {dup_row}\\n\")\n",
    "\n",
    "#confirming duplicates in act_2018\n",
    "print(f\"Showing all rows with 'Maine' as state:\\n {act_2018[act_2018['State'] == 'Maine']}\")"
   ]
  },
  {
   "cell_type": "markdown",
   "metadata": {},
   "source": [
    "'Maine' row in act_2018 is duplicated "
   ]
  },
  {
   "cell_type": "markdown",
   "metadata": {},
   "source": [
    "#### Remove duplicated 'Maine' row in act_2018 "
   ]
  },
  {
   "cell_type": "code",
   "execution_count": 11,
   "metadata": {},
   "outputs": [
    {
     "data": {
      "text/html": [
       "<div>\n",
       "<style scoped>\n",
       "    .dataframe tbody tr th:only-of-type {\n",
       "        vertical-align: middle;\n",
       "    }\n",
       "\n",
       "    .dataframe tbody tr th {\n",
       "        vertical-align: top;\n",
       "    }\n",
       "\n",
       "    .dataframe thead th {\n",
       "        text-align: right;\n",
       "    }\n",
       "</style>\n",
       "<table border=\"1\" class=\"dataframe\">\n",
       "  <thead>\n",
       "    <tr style=\"text-align: right;\">\n",
       "      <th></th>\n",
       "      <th>State</th>\n",
       "      <th>Participation</th>\n",
       "      <th>Composite</th>\n",
       "    </tr>\n",
       "  </thead>\n",
       "  <tbody>\n",
       "    <tr>\n",
       "      <th>19</th>\n",
       "      <td>Maine</td>\n",
       "      <td>7%</td>\n",
       "      <td>24.0</td>\n",
       "    </tr>\n",
       "  </tbody>\n",
       "</table>\n",
       "</div>"
      ],
      "text/plain": [
       "    State Participation  Composite\n",
       "19  Maine            7%       24.0"
      ]
     },
     "execution_count": 11,
     "metadata": {},
     "output_type": "execute_result"
    }
   ],
   "source": [
    "#Confirm that 2 rows of 'Maine' exist\n",
    "act_2018[act_2018['State'] == 'Maine']\n",
    "\n",
    "#Drop duplicated 'Maine' row\n",
    "act_2018.drop([20], inplace = True) \n",
    "\n",
    "#Confirm that only 1 row of 'Maine' left\n",
    "act_2018[act_2018['State'] == 'Maine'] "
   ]
  },
  {
   "cell_type": "markdown",
   "metadata": {},
   "source": [
    "### Check for states that are not supposed to be included"
   ]
  },
  {
   "cell_type": "code",
   "execution_count": 12,
   "metadata": {},
   "outputs": [
    {
     "name": "stdout",
     "output_type": "stream",
     "text": [
      "Full list of US states:\n",
      " ['Alabama', 'Alaska', 'Arizona', 'Arkansas', 'California', 'Colorado', 'Connecticut', 'Delaware', 'Florida', 'Georgia', 'Hawaii', 'Idaho', 'Illinois', 'Indiana', 'Iowa', 'Kansas', 'Kentucky', 'Louisiana', 'Maine', 'Maryland', 'Massachusetts', 'Michigan', 'Minnesota', 'Mississippi', 'Missouri', 'Montana', 'Nebraska', 'Nevada', 'New Hampshire', 'New Jersey', 'New Mexico', 'New York', 'North Carolina', 'North Dakota', 'Ohio', 'Oklahoma', 'Oregon', 'Pennsylvania', 'Rhode Island', 'South Carolina', 'South Dakota', 'Tennessee', 'Texas', 'Utah', 'Vermont', 'Virginia', 'Washington', 'West Virginia', 'Wisconsin', 'Wyoming', 'District of Columbia']\n",
      "\n",
      "Number of rows to expect: 51\n",
      "Number of rows for act_2017 is 52\n",
      "Number of rows for act_2018 is 51\n",
      "Number of rows for sat_2017 is 51\n",
      "Number of rows for sat_2018 is 51\n",
      "\n",
      "act_2017:\n",
      " State     Participation  English  Math  Reading  Science  Composite\n",
      "National   60%           20.3     20.7  21.4     21.0     21.0         1\n",
      "dtype: int64\n",
      "\n",
      "act_2018:\n",
      " State                 Participation  Composite\n",
      "District of columbia  32%            23.6         1\n",
      "dtype: int64\n",
      "\n",
      "sat_2017:\n",
      " Series([], dtype: int64)\n",
      "\n",
      "sat_2018:\n",
      " Series([], dtype: int64)\n"
     ]
    }
   ],
   "source": [
    "#list of US states, including District of Columbia, extracted from Wikipedia 'https://en.wikipedia.org/wiki/List_of_states_and_territories_of_the_United_States'\n",
    "state_list = ['Alabama', 'Alaska', 'Arizona', 'Arkansas', 'California', 'Colorado', 'Connecticut', 'Delaware', \n",
    "              'Florida', 'Georgia', 'Hawaii', 'Idaho', 'Illinois', 'Indiana', 'Iowa', 'Kansas', 'Kentucky',\n",
    "              'Louisiana', 'Maine', 'Maryland', 'Massachusetts', 'Michigan', 'Minnesota', 'Mississippi',\n",
    "              'Missouri', 'Montana', 'Nebraska', 'Nevada', 'New Hampshire', 'New Jersey', 'New Mexico', 'New York',\n",
    "              'North Carolina', 'North Dakota', 'Ohio', 'Oklahoma', 'Oregon', 'Pennsylvania', 'Rhode Island',\n",
    "              'South Carolina', 'South Dakota', 'Tennessee', 'Texas', 'Utah', 'Vermont', 'Virginia', 'Washington',\n",
    "              'West Virginia', 'Wisconsin', 'Wyoming', 'District of Columbia']\n",
    "print(f\"Full list of US states:\\n {state_list}\\n\")\n",
    "print(f\"Number of rows to expect: {len(state_list)}\") #should expect 51 rows in ACT and SAT data\n",
    "\n",
    "#check number of rows in each file\n",
    "flist = {'act_2017':act_2017, 'act_2018':act_2018, 'sat_2017':sat_2017, 'sat_2018':sat_2018}\n",
    "for name, file in flist.items():\n",
    "    print(f\"Number of rows for {name} is {file.shape[0]}\")\n",
    "\n",
    "#check states in data files vs states in Wikipedia\n",
    "for name, file in flist.items(): \n",
    "    print(f\"\\n{name}:\\n {file[~file.isin(state_list)].value_counts()}\")\n",
    "    \n",
    "#act_2017 has additional 'National' row\n",
    "#act_2018 has spelling mistake in 'District of Columbia' #should start with capital C"
   ]
  },
  {
   "cell_type": "markdown",
   "metadata": {},
   "source": [
    "i) For act_2017, 'National' row is not found in other files and needs to be removed,\n",
    "ii) For act_2018, 'c' to be capitalised in District of Columbia "
   ]
  },
  {
   "cell_type": "markdown",
   "metadata": {},
   "source": [
    "#### Remove 'National' row in act_2017"
   ]
  },
  {
   "cell_type": "code",
   "execution_count": 13,
   "metadata": {},
   "outputs": [
    {
     "data": {
      "text/html": [
       "<div>\n",
       "<style scoped>\n",
       "    .dataframe tbody tr th:only-of-type {\n",
       "        vertical-align: middle;\n",
       "    }\n",
       "\n",
       "    .dataframe tbody tr th {\n",
       "        vertical-align: top;\n",
       "    }\n",
       "\n",
       "    .dataframe thead th {\n",
       "        text-align: right;\n",
       "    }\n",
       "</style>\n",
       "<table border=\"1\" class=\"dataframe\">\n",
       "  <thead>\n",
       "    <tr style=\"text-align: right;\">\n",
       "      <th></th>\n",
       "      <th>State</th>\n",
       "      <th>Participation</th>\n",
       "      <th>English</th>\n",
       "      <th>Math</th>\n",
       "      <th>Reading</th>\n",
       "      <th>Science</th>\n",
       "      <th>Composite</th>\n",
       "    </tr>\n",
       "  </thead>\n",
       "  <tbody>\n",
       "  </tbody>\n",
       "</table>\n",
       "</div>"
      ],
      "text/plain": [
       "Empty DataFrame\n",
       "Columns: [State, Participation, English, Math, Reading, Science, Composite]\n",
       "Index: []"
      ]
     },
     "execution_count": 13,
     "metadata": {},
     "output_type": "execute_result"
    }
   ],
   "source": [
    "act_2017[act_2017['State'] == 'National'] #target row with 'National' to be removed\n",
    "act_2017.drop([0], inplace = True) #drop 'National' row 0 \n",
    "act_2017[act_2017['State'] == 'National'] # Confirm that 'National' row has been removed (not found)"
   ]
  },
  {
   "cell_type": "markdown",
   "metadata": {},
   "source": [
    "#### Rename 'District of Columbia' in act_2018"
   ]
  },
  {
   "cell_type": "code",
   "execution_count": 14,
   "metadata": {},
   "outputs": [
    {
     "data": {
      "text/plain": [
       "State            District of Columbia\n",
       "Participation                     32%\n",
       "Composite                        23.6\n",
       "Name: 8, dtype: object"
      ]
     },
     "execution_count": 14,
     "metadata": {},
     "output_type": "execute_result"
    }
   ],
   "source": [
    "act_2018[act_2018[\"State\"] == \"District of columbia\"] #confirm target row \n",
    "act_2018.iloc[8,0] = 'District of Columbia' #Changed to 'District of Columbia' (capital C)\n",
    "act_2018.iloc[8] #Confirm has been changed to 'District of Columbia' "
   ]
  },
  {
   "cell_type": "markdown",
   "metadata": {},
   "source": [
    "### Add missing test subject data to sat_2018"
   ]
  },
  {
   "cell_type": "code",
   "execution_count": 15,
   "metadata": {},
   "outputs": [
    {
     "name": "stdout",
     "output_type": "stream",
     "text": [
      "<class 'pandas.core.frame.DataFrame'>\n",
      "RangeIndex: 51 entries, 0 to 50\n",
      "Data columns (total 5 columns):\n",
      " #   Column   Non-Null Count  Dtype  \n",
      "---  ------   --------------  -----  \n",
      " 0   State    51 non-null     object \n",
      " 1   English  51 non-null     float64\n",
      " 2   Math     51 non-null     float64\n",
      " 3   Reading  51 non-null     float64\n",
      " 4   Science  51 non-null     float64\n",
      "dtypes: float64(4), object(1)\n",
      "memory usage: 2.1+ KB\n",
      "<class 'pandas.core.frame.DataFrame'>\n",
      "Int64Index: 51 entries, 0 to 50\n",
      "Data columns (total 7 columns):\n",
      " #   Column         Non-Null Count  Dtype  \n",
      "---  ------         --------------  -----  \n",
      " 0   State          51 non-null     object \n",
      " 1   Participation  51 non-null     object \n",
      " 2   Composite      51 non-null     float64\n",
      " 3   English        51 non-null     float64\n",
      " 4   Math           51 non-null     float64\n",
      " 5   Reading        51 non-null     float64\n",
      " 6   Science        51 non-null     float64\n",
      "dtypes: float64(5), object(2)\n",
      "memory usage: 3.2+ KB\n"
     ]
    },
    {
     "data": {
      "text/html": [
       "<div>\n",
       "<style scoped>\n",
       "    .dataframe tbody tr th:only-of-type {\n",
       "        vertical-align: middle;\n",
       "    }\n",
       "\n",
       "    .dataframe tbody tr th {\n",
       "        vertical-align: top;\n",
       "    }\n",
       "\n",
       "    .dataframe thead th {\n",
       "        text-align: right;\n",
       "    }\n",
       "</style>\n",
       "<table border=\"1\" class=\"dataframe\">\n",
       "  <thead>\n",
       "    <tr style=\"text-align: right;\">\n",
       "      <th></th>\n",
       "      <th>Composite</th>\n",
       "      <th>English</th>\n",
       "      <th>Math</th>\n",
       "      <th>Reading</th>\n",
       "      <th>Science</th>\n",
       "    </tr>\n",
       "  </thead>\n",
       "  <tbody>\n",
       "    <tr>\n",
       "      <th>count</th>\n",
       "      <td>51.000000</td>\n",
       "      <td>51.000000</td>\n",
       "      <td>51.000000</td>\n",
       "      <td>51.000000</td>\n",
       "      <td>51.000000</td>\n",
       "    </tr>\n",
       "    <tr>\n",
       "      <th>mean</th>\n",
       "      <td>21.496078</td>\n",
       "      <td>20.988235</td>\n",
       "      <td>21.125490</td>\n",
       "      <td>22.033333</td>\n",
       "      <td>21.341176</td>\n",
       "    </tr>\n",
       "    <tr>\n",
       "      <th>std</th>\n",
       "      <td>2.111583</td>\n",
       "      <td>2.446356</td>\n",
       "      <td>2.035765</td>\n",
       "      <td>2.164132</td>\n",
       "      <td>1.870206</td>\n",
       "    </tr>\n",
       "    <tr>\n",
       "      <th>min</th>\n",
       "      <td>17.700000</td>\n",
       "      <td>16.600000</td>\n",
       "      <td>17.800000</td>\n",
       "      <td>18.000000</td>\n",
       "      <td>17.900000</td>\n",
       "    </tr>\n",
       "    <tr>\n",
       "      <th>25%</th>\n",
       "      <td>19.950000</td>\n",
       "      <td>19.100000</td>\n",
       "      <td>19.400000</td>\n",
       "      <td>20.450000</td>\n",
       "      <td>19.850000</td>\n",
       "    </tr>\n",
       "    <tr>\n",
       "      <th>50%</th>\n",
       "      <td>21.300000</td>\n",
       "      <td>20.200000</td>\n",
       "      <td>20.700000</td>\n",
       "      <td>21.700000</td>\n",
       "      <td>21.100000</td>\n",
       "    </tr>\n",
       "    <tr>\n",
       "      <th>75%</th>\n",
       "      <td>23.650000</td>\n",
       "      <td>23.700000</td>\n",
       "      <td>23.150000</td>\n",
       "      <td>24.100000</td>\n",
       "      <td>23.050000</td>\n",
       "    </tr>\n",
       "    <tr>\n",
       "      <th>max</th>\n",
       "      <td>25.600000</td>\n",
       "      <td>26.000000</td>\n",
       "      <td>25.200000</td>\n",
       "      <td>26.100000</td>\n",
       "      <td>24.900000</td>\n",
       "    </tr>\n",
       "  </tbody>\n",
       "</table>\n",
       "</div>"
      ],
      "text/plain": [
       "       Composite    English       Math    Reading    Science\n",
       "count  51.000000  51.000000  51.000000  51.000000  51.000000\n",
       "mean   21.496078  20.988235  21.125490  22.033333  21.341176\n",
       "std     2.111583   2.446356   2.035765   2.164132   1.870206\n",
       "min    17.700000  16.600000  17.800000  18.000000  17.900000\n",
       "25%    19.950000  19.100000  19.400000  20.450000  19.850000\n",
       "50%    21.300000  20.200000  20.700000  21.700000  21.100000\n",
       "75%    23.650000  23.700000  23.150000  24.100000  23.050000\n",
       "max    25.600000  26.000000  25.200000  26.100000  24.900000"
      ]
     },
     "execution_count": 15,
     "metadata": {},
     "output_type": "execute_result"
    }
   ],
   "source": [
    " #import data for missing columns\n",
    "act_2018_addon = pd.read_csv('data/act_2018_addon.csv')\n",
    "\n",
    "#checking overview of imported data\n",
    "act_2018_addon.head()\n",
    "act_2018_addon.info()\n",
    "\n",
    "#merging test subject data with act_2018\n",
    "act_2018_added = pd.merge(act_2018, act_2018_addon, on='State', how='left')\n",
    "\n",
    "#checking on results of merging\n",
    "act_2018_added.head()\n",
    "act_2018_added.info()\n",
    "act_2018_added.describe() \n"
   ]
  },
  {
   "cell_type": "markdown",
   "metadata": {},
   "source": [
    "### Convert all numeric values to float type for later calculations"
   ]
  },
  {
   "cell_type": "markdown",
   "metadata": {},
   "source": [
    "#### Convert 'Participation' column data in all files to float"
   ]
  },
  {
   "cell_type": "code",
   "execution_count": 16,
   "metadata": {},
   "outputs": [
    {
     "name": "stdout",
     "output_type": "stream",
     "text": [
      "float64\n",
      "float64\n",
      "float64\n",
      "float64\n"
     ]
    }
   ],
   "source": [
    "#updated dictionary of files and file names\n",
    "flist = {'act_2017':act_2017, 'act_2018_added':act_2018_added, 'sat_2017':sat_2017, 'sat_2018':sat_2018} \n",
    "\n",
    "#Convert 'Participation' column percentage values to float\n",
    "for name, file in flist.items():\n",
    "    try:\n",
    "        file.loc[:, 'Participation'] = file.loc[:, 'Participation'].map(to_float) \n",
    "    except:\n",
    "        pass\n",
    "  \n",
    "#Checking data type of 'Participation' column is correctly changed to float\n",
    "for name, file in flist.items():\n",
    "    print(file['Participation'].dtypes)"
   ]
  },
  {
   "cell_type": "markdown",
   "metadata": {},
   "source": [
    "#### Convert 'Composite' in act_2017 from object to float"
   ]
  },
  {
   "cell_type": "code",
   "execution_count": 17,
   "metadata": {
    "scrolled": false
   },
   "outputs": [
    {
     "data": {
      "text/plain": [
       "1      19.2\n",
       "2      19.8\n",
       "3      19.7\n",
       "4      19.4\n",
       "5      22.8\n",
       "6      20.8\n",
       "7      25.2\n",
       "8      24.1\n",
       "9      24.2\n",
       "10     19.8\n",
       "11     21.4\n",
       "12     19.0\n",
       "13     22.3\n",
       "14     21.4\n",
       "15     22.6\n",
       "16     21.9\n",
       "17     21.7\n",
       "18     20.0\n",
       "19     19.5\n",
       "20     24.3\n",
       "21     23.6\n",
       "22     25.4\n",
       "23     24.1\n",
       "24     21.5\n",
       "25     18.6\n",
       "26     20.4\n",
       "27     20.3\n",
       "28     21.4\n",
       "29     17.8\n",
       "30     25.5\n",
       "31     23.9\n",
       "32     19.7\n",
       "33     24.2\n",
       "34     19.1\n",
       "35     20.3\n",
       "36     22.0\n",
       "37     19.4\n",
       "38     21.8\n",
       "39     23.7\n",
       "40     24.0\n",
       "41     18.7\n",
       "42     21.8\n",
       "43     19.8\n",
       "44     20.7\n",
       "45     20.3\n",
       "46     23.6\n",
       "47     23.8\n",
       "48     21.9\n",
       "49     20.4\n",
       "50     20.5\n",
       "51    20.2x\n",
       "Name: Composite, dtype: object"
      ]
     },
     "execution_count": 17,
     "metadata": {},
     "output_type": "execute_result"
    }
   ],
   "source": [
    "#Confirm data type of 'Composite' column in act_2017 is Object type\n",
    "#act_2017[\"Composite\"].dtypes \n",
    "\n",
    "#Check values of 'Composite' column to check if all numeric\n",
    "act_2017['Composite'] "
   ]
  },
  {
   "cell_type": "markdown",
   "metadata": {},
   "source": [
    "Upon inspection, the last row in 'Composite' column has an 'x' at the end of last string value (20.2x) which needs to be removed before float conversion."
   ]
  },
  {
   "cell_type": "markdown",
   "metadata": {},
   "source": [
    "##### Removing 'x' at end of string in 'Composite' column of act_2017 "
   ]
  },
  {
   "cell_type": "code",
   "execution_count": 18,
   "metadata": {
    "scrolled": true
   },
   "outputs": [
    {
     "data": {
      "text/html": [
       "<div>\n",
       "<style scoped>\n",
       "    .dataframe tbody tr th:only-of-type {\n",
       "        vertical-align: middle;\n",
       "    }\n",
       "\n",
       "    .dataframe tbody tr th {\n",
       "        vertical-align: top;\n",
       "    }\n",
       "\n",
       "    .dataframe thead th {\n",
       "        text-align: right;\n",
       "    }\n",
       "</style>\n",
       "<table border=\"1\" class=\"dataframe\">\n",
       "  <thead>\n",
       "    <tr style=\"text-align: right;\">\n",
       "      <th></th>\n",
       "      <th>State</th>\n",
       "      <th>Participation</th>\n",
       "      <th>English</th>\n",
       "      <th>Math</th>\n",
       "      <th>Reading</th>\n",
       "      <th>Science</th>\n",
       "      <th>Composite</th>\n",
       "    </tr>\n",
       "  </thead>\n",
       "  <tbody>\n",
       "    <tr>\n",
       "      <th>51</th>\n",
       "      <td>Wyoming</td>\n",
       "      <td>1.0</td>\n",
       "      <td>19.4</td>\n",
       "      <td>19.8</td>\n",
       "      <td>20.8</td>\n",
       "      <td>20.6</td>\n",
       "      <td>20.2</td>\n",
       "    </tr>\n",
       "  </tbody>\n",
       "</table>\n",
       "</div>"
      ],
      "text/plain": [
       "      State  Participation  English  Math  Reading  Science Composite\n",
       "51  Wyoming            1.0     19.4  19.8     20.8     20.6      20.2"
      ]
     },
     "execution_count": 18,
     "metadata": {},
     "output_type": "execute_result"
    }
   ],
   "source": [
    "#Locating the row with '20.2x'\n",
    "act_2017[act_2017[\"Composite\"] == '20.2x']\n",
    "\n",
    "#Replacing '20.2x' with 20.2\n",
    "act_2017.loc[act_2017.State == 'Wyoming','Composite'] = 20.2\n",
    "\n",
    "#checking that value has been replaced successfully\n",
    "act_2017.loc[act_2017.State == 'Wyoming'] "
   ]
  },
  {
   "cell_type": "markdown",
   "metadata": {},
   "source": [
    "#### Convert cleaned 'Composite' column data from object to float"
   ]
  },
  {
   "cell_type": "code",
   "execution_count": 19,
   "metadata": {},
   "outputs": [
    {
     "data": {
      "text/plain": [
       "State             object\n",
       "Participation    float64\n",
       "English          float64\n",
       "Math             float64\n",
       "Reading          float64\n",
       "Science          float64\n",
       "Composite        float64\n",
       "dtype: object"
      ]
     },
     "execution_count": 19,
     "metadata": {},
     "output_type": "execute_result"
    }
   ],
   "source": [
    "#Convert 'Composite from object to float\n",
    "act_2017.loc[:, 'Composite'] = act_2017.loc[:, 'Composite'].map(lambda x: float(x)) \n",
    "\n",
    "#Confirm that conversion is successful\n",
    "act_2017.dtypes "
   ]
  },
  {
   "cell_type": "markdown",
   "metadata": {},
   "source": [
    "#### Convert all remaining numberic values in files to float for future calculations"
   ]
  },
  {
   "cell_type": "code",
   "execution_count": 20,
   "metadata": {
    "scrolled": true
   },
   "outputs": [
    {
     "name": "stdout",
     "output_type": "stream",
     "text": [
      "act_2017\n",
      ", State             object\n",
      "Participation    float64\n",
      "English          float64\n",
      "Math             float64\n",
      "Reading          float64\n",
      "Science          float64\n",
      "Composite        float64\n",
      "dtype: object\n",
      "\n",
      "act_2018_added\n",
      ", State             object\n",
      "Participation    float64\n",
      "Composite        float64\n",
      "English          float64\n",
      "Math             float64\n",
      "Reading          float64\n",
      "Science          float64\n",
      "dtype: object\n",
      "\n",
      "sat_2017\n",
      ", State                                  object\n",
      "Participation                         float64\n",
      "Evidence-Based Reading and Writing    float64\n",
      "Math                                  float64\n",
      "Total                                 float64\n",
      "dtype: object\n",
      "\n",
      "sat_2018\n",
      ", State                                  object\n",
      "Participation                         float64\n",
      "Evidence-Based Reading and Writing    float64\n",
      "Math                                  float64\n",
      "Total                                 float64\n",
      "dtype: object\n",
      "\n"
     ]
    }
   ],
   "source": [
    "#Convert all numeric values to float\n",
    "for name, file in flist.items():\n",
    "    file.iloc[:,1:] = file.iloc[:,1:].applymap(lambda x: float(x))\n",
    "    \n",
    "#check all column data types are float except for 'State' column\n",
    "for name, file in flist.items():\n",
    "    print(f\"{name}\\n, {file.dtypes}\\n\")"
   ]
  },
  {
   "cell_type": "markdown",
   "metadata": {},
   "source": [
    "### Check and replace inaccurate values"
   ]
  },
  {
   "cell_type": "markdown",
   "metadata": {},
   "source": [
    "#### Correcting min Science score for act_2017"
   ]
  },
  {
   "cell_type": "code",
   "execution_count": 21,
   "metadata": {},
   "outputs": [
    {
     "data": {
      "text/html": [
       "<div>\n",
       "<style scoped>\n",
       "    .dataframe tbody tr th:only-of-type {\n",
       "        vertical-align: middle;\n",
       "    }\n",
       "\n",
       "    .dataframe tbody tr th {\n",
       "        vertical-align: top;\n",
       "    }\n",
       "\n",
       "    .dataframe thead th {\n",
       "        text-align: right;\n",
       "    }\n",
       "</style>\n",
       "<table border=\"1\" class=\"dataframe\">\n",
       "  <thead>\n",
       "    <tr style=\"text-align: right;\">\n",
       "      <th></th>\n",
       "      <th>State</th>\n",
       "      <th>Participation</th>\n",
       "      <th>English</th>\n",
       "      <th>Math</th>\n",
       "      <th>Reading</th>\n",
       "      <th>Science</th>\n",
       "      <th>Composite</th>\n",
       "    </tr>\n",
       "  </thead>\n",
       "  <tbody>\n",
       "    <tr>\n",
       "      <th>21</th>\n",
       "      <td>Maryland</td>\n",
       "      <td>0.28</td>\n",
       "      <td>23.3</td>\n",
       "      <td>23.1</td>\n",
       "      <td>24.2</td>\n",
       "      <td>2.3</td>\n",
       "      <td>23.6</td>\n",
       "    </tr>\n",
       "  </tbody>\n",
       "</table>\n",
       "</div>"
      ],
      "text/plain": [
       "       State  Participation  English  Math  Reading  Science  Composite\n",
       "21  Maryland           0.28     23.3  23.1     24.2      2.3       23.6"
      ]
     },
     "execution_count": 21,
     "metadata": {},
     "output_type": "execute_result"
    }
   ],
   "source": [
    "#Found that minimum Science score of 2.3 comes from 'Maryland'\n",
    "act_2017[act_2017[\"Science\"] == 2.3] "
   ]
  },
  {
   "cell_type": "markdown",
   "metadata": {},
   "source": [
    "From ACT website,(https://www.act.org/content/dam/act/unsecured/documents/cccr2017/ACT_2017-Average_Scores_by_State.pdf), the 2017 ACT Science score for state of Maryland should be 23.2 instead of 2.3. "
   ]
  },
  {
   "cell_type": "code",
   "execution_count": 22,
   "metadata": {},
   "outputs": [
    {
     "data": {
      "text/html": [
       "<div>\n",
       "<style scoped>\n",
       "    .dataframe tbody tr th:only-of-type {\n",
       "        vertical-align: middle;\n",
       "    }\n",
       "\n",
       "    .dataframe tbody tr th {\n",
       "        vertical-align: top;\n",
       "    }\n",
       "\n",
       "    .dataframe thead th {\n",
       "        text-align: right;\n",
       "    }\n",
       "</style>\n",
       "<table border=\"1\" class=\"dataframe\">\n",
       "  <thead>\n",
       "    <tr style=\"text-align: right;\">\n",
       "      <th></th>\n",
       "      <th>State</th>\n",
       "      <th>Participation</th>\n",
       "      <th>English</th>\n",
       "      <th>Math</th>\n",
       "      <th>Reading</th>\n",
       "      <th>Science</th>\n",
       "      <th>Composite</th>\n",
       "    </tr>\n",
       "  </thead>\n",
       "  <tbody>\n",
       "    <tr>\n",
       "      <th>21</th>\n",
       "      <td>Maryland</td>\n",
       "      <td>0.28</td>\n",
       "      <td>23.3</td>\n",
       "      <td>23.1</td>\n",
       "      <td>24.2</td>\n",
       "      <td>23.2</td>\n",
       "      <td>23.6</td>\n",
       "    </tr>\n",
       "  </tbody>\n",
       "</table>\n",
       "</div>"
      ],
      "text/plain": [
       "       State  Participation  English  Math  Reading  Science  Composite\n",
       "21  Maryland           0.28     23.3  23.1     24.2     23.2       23.6"
      ]
     },
     "execution_count": 22,
     "metadata": {},
     "output_type": "execute_result"
    }
   ],
   "source": [
    "#Replace 2.3 with 23.2\n",
    "act_2017.loc[act_2017.State == \"Maryland\",\"Science\"] = 23.2\n",
    "\n",
    "#Checking that replacement is successful\n",
    "act_2017.loc[act_2017.State == \"Maryland\"] "
   ]
  },
  {
   "cell_type": "markdown",
   "metadata": {},
   "source": [
    "#### Correcting min math score for sat_2017"
   ]
  },
  {
   "cell_type": "code",
   "execution_count": 23,
   "metadata": {},
   "outputs": [
    {
     "data": {
      "text/html": [
       "<div>\n",
       "<style scoped>\n",
       "    .dataframe tbody tr th:only-of-type {\n",
       "        vertical-align: middle;\n",
       "    }\n",
       "\n",
       "    .dataframe tbody tr th {\n",
       "        vertical-align: top;\n",
       "    }\n",
       "\n",
       "    .dataframe thead th {\n",
       "        text-align: right;\n",
       "    }\n",
       "</style>\n",
       "<table border=\"1\" class=\"dataframe\">\n",
       "  <thead>\n",
       "    <tr style=\"text-align: right;\">\n",
       "      <th></th>\n",
       "      <th>State</th>\n",
       "      <th>Participation</th>\n",
       "      <th>Evidence-Based Reading and Writing</th>\n",
       "      <th>Math</th>\n",
       "      <th>Total</th>\n",
       "    </tr>\n",
       "  </thead>\n",
       "  <tbody>\n",
       "    <tr>\n",
       "      <th>20</th>\n",
       "      <td>Maryland</td>\n",
       "      <td>0.69</td>\n",
       "      <td>536.0</td>\n",
       "      <td>52.0</td>\n",
       "      <td>1060.0</td>\n",
       "    </tr>\n",
       "  </tbody>\n",
       "</table>\n",
       "</div>"
      ],
      "text/plain": [
       "       State  Participation  Evidence-Based Reading and Writing  Math   Total\n",
       "20  Maryland           0.69                               536.0  52.0  1060.0"
      ]
     },
     "execution_count": 23,
     "metadata": {},
     "output_type": "execute_result"
    }
   ],
   "source": [
    "#Found that minimum Math score of 52 comes from 'Maryland'\n",
    "sat_2017[sat_2017[\"Math\"] == 52]"
   ]
  },
  {
   "cell_type": "markdown",
   "metadata": {},
   "source": [
    "From SAT website,(https://nces.ed.gov/programs/digest/d19/tables/dt19_226.40.asp), the 2017 SAT Math score for state of Maryland should be 524 instead of 52."
   ]
  },
  {
   "cell_type": "code",
   "execution_count": 24,
   "metadata": {},
   "outputs": [
    {
     "data": {
      "text/html": [
       "<div>\n",
       "<style scoped>\n",
       "    .dataframe tbody tr th:only-of-type {\n",
       "        vertical-align: middle;\n",
       "    }\n",
       "\n",
       "    .dataframe tbody tr th {\n",
       "        vertical-align: top;\n",
       "    }\n",
       "\n",
       "    .dataframe thead th {\n",
       "        text-align: right;\n",
       "    }\n",
       "</style>\n",
       "<table border=\"1\" class=\"dataframe\">\n",
       "  <thead>\n",
       "    <tr style=\"text-align: right;\">\n",
       "      <th></th>\n",
       "      <th>State</th>\n",
       "      <th>Participation</th>\n",
       "      <th>Evidence-Based Reading and Writing</th>\n",
       "      <th>Math</th>\n",
       "      <th>Total</th>\n",
       "    </tr>\n",
       "  </thead>\n",
       "  <tbody>\n",
       "    <tr>\n",
       "      <th>20</th>\n",
       "      <td>Maryland</td>\n",
       "      <td>0.69</td>\n",
       "      <td>536.0</td>\n",
       "      <td>524.0</td>\n",
       "      <td>1060.0</td>\n",
       "    </tr>\n",
       "  </tbody>\n",
       "</table>\n",
       "</div>"
      ],
      "text/plain": [
       "       State  Participation  Evidence-Based Reading and Writing   Math   Total\n",
       "20  Maryland           0.69                               536.0  524.0  1060.0"
      ]
     },
     "execution_count": 24,
     "metadata": {},
     "output_type": "execute_result"
    }
   ],
   "source": [
    "#Replace 52 with 524\n",
    "sat_2017.loc[sat_2017.State == \"Maryland\",\"Math\"] = 524 \n",
    "\n",
    "#Checking that replacement is successful\n",
    "sat_2017.loc[sat_2017.State == \"Maryland\"] "
   ]
  },
  {
   "cell_type": "markdown",
   "metadata": {},
   "source": [
    "### Renaming columns"
   ]
  },
  {
   "cell_type": "code",
   "execution_count": 25,
   "metadata": {},
   "outputs": [],
   "source": [
    "# define function to rename dataframes for SAT files\n",
    "def rename_col_sat(df, year):\n",
    "    sat_rename = {'Participation':'sat_' + str(year) + '_participation' , # create dictionaries for mapping old col names to new col names\n",
    "                 'Evidence-Based Reading and Writing':'sat_'+ str(year) + '_erw',\n",
    "                 'Math':'sat_'+ str(year) + '_math',\n",
    "                 'Total':'sat_'+ str(year) +'_total'} \n",
    "\n",
    "    df.rename(columns=sat_rename,inplace=True)\n",
    "\n",
    "# define function to rename dataframes for SAT files\n",
    "def rename_col_act(df, year):\n",
    "    act_rename = {'Participation':'act_'+ str(year) +'_participation', # create dictionaries for mapping old col names to new col names\n",
    "             'English':'act_'+ str(year) + '_eng',\n",
    "             'Math':'act_'+ str(year) + '_math',\n",
    "             'Reading':'act_'+ str(year) + '_reading',\n",
    "             'Science':'act_'+ str(year) + '_science',\n",
    "             'Composite':'act_'+ str(year) + '_composite'}\n",
    "    df.rename(columns=act_rename,inplace=True)"
   ]
  },
  {
   "cell_type": "code",
   "execution_count": 26,
   "metadata": {},
   "outputs": [
    {
     "name": "stdout",
     "output_type": "stream",
     "text": [
      "Index(['State', 'act_2017_participation', 'act_2017_eng', 'act_2017_math',\n",
      "       'act_2017_reading', 'act_2017_science', 'act_2017_composite'],\n",
      "      dtype='object')\n",
      "Index(['State', 'act_2018_participation', 'act_2018_composite', 'act_2018_eng',\n",
      "       'act_2018_math', 'act_2018_reading', 'act_2018_science'],\n",
      "      dtype='object')\n",
      "Index(['State', 'sat_2017_participation', 'sat_2017_erw', 'sat_2017_math',\n",
      "       'sat_2017_total'],\n",
      "      dtype='object')\n",
      "Index(['State', 'sat_2018_participation', 'sat_2018_erw', 'sat_2018_math',\n",
      "       'sat_2018_total'],\n",
      "      dtype='object')\n"
     ]
    }
   ],
   "source": [
    "#renaming columns\n",
    "for name, file in flist.items(): \n",
    "    year = name.split('_')[1] #derive year from file name\n",
    "    \n",
    "#apply column changing function for ACT or SAT based on file name  \n",
    "    if 'sat' in name: \n",
    "        rename_col_sat(file, year)\n",
    "        print(file.columns) #confirm change in column names for SAT\n",
    "    elif 'act' in name:\n",
    "        rename_col_act(file, year)\n",
    "        print(file.columns) #confirm change in column names for ACT"
   ]
  },
  {
   "cell_type": "markdown",
   "metadata": {},
   "source": [
    "### Merging all files into single dataframe"
   ]
  },
  {
   "cell_type": "markdown",
   "metadata": {},
   "source": [
    "#### Check all files have similar number of rows and same states"
   ]
  },
  {
   "cell_type": "code",
   "execution_count": 27,
   "metadata": {},
   "outputs": [
    {
     "name": "stdout",
     "output_type": "stream",
     "text": [
      "(51, 7)\n",
      "State                      object\n",
      "act_2017_participation    float64\n",
      "act_2017_eng              float64\n",
      "act_2017_math             float64\n",
      "act_2017_reading          float64\n",
      "act_2017_science          float64\n",
      "act_2017_composite        float64\n",
      "dtype: object\n",
      "(51, 7)\n",
      "State                      object\n",
      "act_2018_participation    float64\n",
      "act_2018_composite        float64\n",
      "act_2018_eng              float64\n",
      "act_2018_math             float64\n",
      "act_2018_reading          float64\n",
      "act_2018_science          float64\n",
      "dtype: object\n",
      "(51, 5)\n",
      "State                      object\n",
      "sat_2017_participation    float64\n",
      "sat_2017_erw              float64\n",
      "sat_2017_math             float64\n",
      "sat_2017_total            float64\n",
      "dtype: object\n",
      "(51, 5)\n",
      "State                      object\n",
      "sat_2018_participation    float64\n",
      "sat_2018_erw              float64\n",
      "sat_2018_math             float64\n",
      "sat_2018_total            float64\n",
      "dtype: object\n"
     ]
    }
   ],
   "source": [
    "#check same number of rows\n",
    "for name, file in flist.items():\n",
    "    print(file.shape)\n",
    "    print(file.dtypes)"
   ]
  },
  {
   "cell_type": "markdown",
   "metadata": {},
   "source": [
    "All files have 51 rows "
   ]
  },
  {
   "cell_type": "markdown",
   "metadata": {},
   "source": [
    "#### Check all files contain the same states"
   ]
  },
  {
   "cell_type": "code",
   "execution_count": 28,
   "metadata": {
    "scrolled": true
   },
   "outputs": [
    {
     "name": "stdout",
     "output_type": "stream",
     "text": [
      "\n",
      "act_2017:\n",
      " Series([], dtype: int64)\n",
      "\n",
      "act_2018_added:\n",
      " Series([], dtype: int64)\n",
      "\n",
      "sat_2017:\n",
      " Series([], dtype: int64)\n",
      "\n",
      "sat_2018:\n",
      " Series([], dtype: int64)\n"
     ]
    }
   ],
   "source": [
    "for name, file in flist.items(): \n",
    "    print(f\"\\n{name}:\\n {file[~file.isin(state_list)].value_counts()}\")"
   ]
  },
  {
   "cell_type": "markdown",
   "metadata": {},
   "source": [
    "All files contain the same 51 states"
   ]
  },
  {
   "cell_type": "code",
   "execution_count": 29,
   "metadata": {
    "scrolled": true
   },
   "outputs": [
    {
     "name": "stdout",
     "output_type": "stream",
     "text": [
      "<class 'pandas.core.frame.DataFrame'>\n",
      "Int64Index: 51 entries, 0 to 50\n",
      "Data columns (total 21 columns):\n",
      " #   Column                  Non-Null Count  Dtype  \n",
      "---  ------                  --------------  -----  \n",
      " 0   State                   51 non-null     object \n",
      " 1   act_2017_participation  51 non-null     float64\n",
      " 2   act_2017_eng            51 non-null     float64\n",
      " 3   act_2017_math           51 non-null     float64\n",
      " 4   act_2017_reading        51 non-null     float64\n",
      " 5   act_2017_science        51 non-null     float64\n",
      " 6   act_2017_composite      51 non-null     float64\n",
      " 7   act_2018_participation  51 non-null     float64\n",
      " 8   act_2018_composite      51 non-null     float64\n",
      " 9   act_2018_eng            51 non-null     float64\n",
      " 10  act_2018_math           51 non-null     float64\n",
      " 11  act_2018_reading        51 non-null     float64\n",
      " 12  act_2018_science        51 non-null     float64\n",
      " 13  sat_2017_participation  51 non-null     float64\n",
      " 14  sat_2017_erw            51 non-null     float64\n",
      " 15  sat_2017_math           51 non-null     float64\n",
      " 16  sat_2017_total          51 non-null     float64\n",
      " 17  sat_2018_participation  51 non-null     float64\n",
      " 18  sat_2018_erw            51 non-null     float64\n",
      " 19  sat_2018_math           51 non-null     float64\n",
      " 20  sat_2018_total          51 non-null     float64\n",
      "dtypes: float64(20), object(1)\n",
      "memory usage: 8.8+ KB\n"
     ]
    },
    {
     "ename": "PermissionError",
     "evalue": "[Errno 13] Permission denied: 'data/final_merged.csv'",
     "output_type": "error",
     "traceback": [
      "\u001b[1;31m---------------------------------------------------------------------------\u001b[0m",
      "\u001b[1;31mPermissionError\u001b[0m                           Traceback (most recent call last)",
      "\u001b[1;32m~\\AppData\\Local\\Temp/ipykernel_38324/878768614.py\u001b[0m in \u001b[0;36m<module>\u001b[1;34m\u001b[0m\n\u001b[0;32m     11\u001b[0m \u001b[1;33m\u001b[0m\u001b[0m\n\u001b[0;32m     12\u001b[0m \u001b[1;31m#export to csv\u001b[0m\u001b[1;33m\u001b[0m\u001b[1;33m\u001b[0m\u001b[0m\n\u001b[1;32m---> 13\u001b[1;33m \u001b[0mfinal_merged\u001b[0m\u001b[1;33m.\u001b[0m\u001b[0mto_csv\u001b[0m\u001b[1;33m(\u001b[0m\u001b[1;34m'data/final_merged.csv'\u001b[0m\u001b[1;33m,\u001b[0m \u001b[0mindex\u001b[0m \u001b[1;33m=\u001b[0m \u001b[1;32mFalse\u001b[0m\u001b[1;33m)\u001b[0m\u001b[1;33m\u001b[0m\u001b[1;33m\u001b[0m\u001b[0m\n\u001b[0m",
      "\u001b[1;32m~\\anaconda3\\lib\\site-packages\\pandas\\core\\generic.py\u001b[0m in \u001b[0;36mto_csv\u001b[1;34m(self, path_or_buf, sep, na_rep, float_format, columns, header, index, index_label, mode, encoding, compression, quoting, quotechar, line_terminator, chunksize, date_format, doublequote, escapechar, decimal, errors, storage_options)\u001b[0m\n\u001b[0;32m   3464\u001b[0m         )\n\u001b[0;32m   3465\u001b[0m \u001b[1;33m\u001b[0m\u001b[0m\n\u001b[1;32m-> 3466\u001b[1;33m         return DataFrameRenderer(formatter).to_csv(\n\u001b[0m\u001b[0;32m   3467\u001b[0m             \u001b[0mpath_or_buf\u001b[0m\u001b[1;33m,\u001b[0m\u001b[1;33m\u001b[0m\u001b[1;33m\u001b[0m\u001b[0m\n\u001b[0;32m   3468\u001b[0m             \u001b[0mline_terminator\u001b[0m\u001b[1;33m=\u001b[0m\u001b[0mline_terminator\u001b[0m\u001b[1;33m,\u001b[0m\u001b[1;33m\u001b[0m\u001b[1;33m\u001b[0m\u001b[0m\n",
      "\u001b[1;32m~\\anaconda3\\lib\\site-packages\\pandas\\io\\formats\\format.py\u001b[0m in \u001b[0;36mto_csv\u001b[1;34m(self, path_or_buf, encoding, sep, columns, index_label, mode, compression, quoting, quotechar, line_terminator, chunksize, date_format, doublequote, escapechar, errors, storage_options)\u001b[0m\n\u001b[0;32m   1103\u001b[0m             \u001b[0mformatter\u001b[0m\u001b[1;33m=\u001b[0m\u001b[0mself\u001b[0m\u001b[1;33m.\u001b[0m\u001b[0mfmt\u001b[0m\u001b[1;33m,\u001b[0m\u001b[1;33m\u001b[0m\u001b[1;33m\u001b[0m\u001b[0m\n\u001b[0;32m   1104\u001b[0m         )\n\u001b[1;32m-> 1105\u001b[1;33m         \u001b[0mcsv_formatter\u001b[0m\u001b[1;33m.\u001b[0m\u001b[0msave\u001b[0m\u001b[1;33m(\u001b[0m\u001b[1;33m)\u001b[0m\u001b[1;33m\u001b[0m\u001b[1;33m\u001b[0m\u001b[0m\n\u001b[0m\u001b[0;32m   1106\u001b[0m \u001b[1;33m\u001b[0m\u001b[0m\n\u001b[0;32m   1107\u001b[0m         \u001b[1;32mif\u001b[0m \u001b[0mcreated_buffer\u001b[0m\u001b[1;33m:\u001b[0m\u001b[1;33m\u001b[0m\u001b[1;33m\u001b[0m\u001b[0m\n",
      "\u001b[1;32m~\\anaconda3\\lib\\site-packages\\pandas\\io\\formats\\csvs.py\u001b[0m in \u001b[0;36msave\u001b[1;34m(self)\u001b[0m\n\u001b[0;32m    235\u001b[0m         \"\"\"\n\u001b[0;32m    236\u001b[0m         \u001b[1;31m# apply compression and byte/text conversion\u001b[0m\u001b[1;33m\u001b[0m\u001b[1;33m\u001b[0m\u001b[0m\n\u001b[1;32m--> 237\u001b[1;33m         with get_handle(\n\u001b[0m\u001b[0;32m    238\u001b[0m             \u001b[0mself\u001b[0m\u001b[1;33m.\u001b[0m\u001b[0mfilepath_or_buffer\u001b[0m\u001b[1;33m,\u001b[0m\u001b[1;33m\u001b[0m\u001b[1;33m\u001b[0m\u001b[0m\n\u001b[0;32m    239\u001b[0m             \u001b[0mself\u001b[0m\u001b[1;33m.\u001b[0m\u001b[0mmode\u001b[0m\u001b[1;33m,\u001b[0m\u001b[1;33m\u001b[0m\u001b[1;33m\u001b[0m\u001b[0m\n",
      "\u001b[1;32m~\\anaconda3\\lib\\site-packages\\pandas\\io\\common.py\u001b[0m in \u001b[0;36mget_handle\u001b[1;34m(path_or_buf, mode, encoding, compression, memory_map, is_text, errors, storage_options)\u001b[0m\n\u001b[0;32m    700\u001b[0m         \u001b[1;32mif\u001b[0m \u001b[0mioargs\u001b[0m\u001b[1;33m.\u001b[0m\u001b[0mencoding\u001b[0m \u001b[1;32mand\u001b[0m \u001b[1;34m\"b\"\u001b[0m \u001b[1;32mnot\u001b[0m \u001b[1;32min\u001b[0m \u001b[0mioargs\u001b[0m\u001b[1;33m.\u001b[0m\u001b[0mmode\u001b[0m\u001b[1;33m:\u001b[0m\u001b[1;33m\u001b[0m\u001b[1;33m\u001b[0m\u001b[0m\n\u001b[0;32m    701\u001b[0m             \u001b[1;31m# Encoding\u001b[0m\u001b[1;33m\u001b[0m\u001b[1;33m\u001b[0m\u001b[0m\n\u001b[1;32m--> 702\u001b[1;33m             handle = open(\n\u001b[0m\u001b[0;32m    703\u001b[0m                 \u001b[0mhandle\u001b[0m\u001b[1;33m,\u001b[0m\u001b[1;33m\u001b[0m\u001b[1;33m\u001b[0m\u001b[0m\n\u001b[0;32m    704\u001b[0m                 \u001b[0mioargs\u001b[0m\u001b[1;33m.\u001b[0m\u001b[0mmode\u001b[0m\u001b[1;33m,\u001b[0m\u001b[1;33m\u001b[0m\u001b[1;33m\u001b[0m\u001b[0m\n",
      "\u001b[1;31mPermissionError\u001b[0m: [Errno 13] Permission denied: 'data/final_merged.csv'"
     ]
    }
   ],
   "source": [
    "#merge the 2 ACT files \n",
    "acts_merged = pd.merge(act_2017, act_2018_added, on='State', how='left')\n",
    "\n",
    "#merge the 2 SAT files\n",
    "sats_merged = pd.merge(sat_2017, sat_2018, on='State', how='left')\n",
    "\n",
    "#final merge for all ACT and SAT files\n",
    "final_merged = pd.merge(acts_merged, sats_merged, on='State', how='left')\n",
    "#check final df\n",
    "final_merged.info() \n",
    "\n",
    "#export to csv\n",
    "final_merged.to_csv('data/final_merged.csv', index = False)"
   ]
  },
  {
   "cell_type": "markdown",
   "metadata": {},
   "source": [
    "### Data Dictionary\n",
    "\n",
    "Now that we've fixed our data, and given it appropriate names, let's create a [data dictionary](http://library.ucmerced.edu/node/10249). \n",
    "\n",
    "A data dictionary provides a quick overview of features/variables/columns, alongside data types and descriptions. The more descriptive you can be, the more useful this document is.\n",
    "\n",
    "Example of a Fictional Data Dictionary Entry: \n",
    "\n",
    "|Feature|Type|Dataset|Description|\n",
    "|---|---|---|---|\n",
    "|**county_pop**|*integer*|2010 census|The population of the county (units in thousands, where 2.5 represents 2500 people).| \n",
    "|**per_poverty**|*float*|2010 census|The percent of the county over the age of 18 living below the 200% of official US poverty rate (units percent to two decimal places 98.10 means 98.1%)|\n",
    "\n",
    "[Here's a quick link to a short guide for formatting markdown in Jupyter notebooks](https://jupyter-notebook.readthedocs.io/en/stable/examples/Notebook/Working%20With%20Markdown%20Cells.html).\n",
    "\n",
    "Provided is the skeleton for formatting a markdown table, with columns headers that will help you create a data dictionary to quickly summarize your data, as well as some examples. **This would be a great thing to copy and paste into your custom README for this project.**\n",
    "\n",
    "*Note*: if you are unsure of what a feature is, check the source of the data! This can be found in the README."
   ]
  },
  {
   "cell_type": "markdown",
   "metadata": {},
   "source": [
    "|Feature|Type|Dataset|Description|\n",
    "|:---|:---:|:---:|:---|\n",
    "|State|Index|SAT/ACT|US state which the ACT and SAT scores are taken from|\n",
    "|act_2017_participation|float|ACT|Members of the graduating class who had taken the ACT test in 2017 as a percentage of the total number of high school graduates that year in a particular state|\n",
    "|act_2017_eng|float|ACT|State-level mean score for ACT English subject test in 2017|\n",
    "|act_2017_math|float|ACT|State-level mean score for ACT Math subject test in 2017|\n",
    "|act_2017_reading|float|ACT|State-level mean score for ACT Reading subject test in 2017|\n",
    "|act_2017_science|float|ACT|State-level mean score for ACT Science subject test in 2017|\n",
    "|act_2017_composite|float|ACT|State-level mean ACT Composite score (average of English, Math, Reading and Science scores) in 2017|\n",
    "|act_2018_participation|float|ACT|Members of the graduating class who had taken the ACT test in 2018 as a percentage of the total number of high school graduates that year in a particular state|\n",
    "|act_2018_composite|float|ACT|State-level mean ACT Composite score (average of English, Math, Reading and Science scores) in 2018|\n",
    "|act_2018_eng|float|ACT|State-level mean score for ACT English subject test in 2018|\n",
    "|act_2018_math|float|ACT|State-level mean score for ACT Math subject test in 2018|\n",
    "|act_2018_reading|float|ACT|State-level mean score for ACT Reading subject test in 2018|\n",
    "|act_2018_science|float|ACT|State-level mean score for ACT Science subject test in 2018|\n",
    "|sat_2017_participation|float|SAT|Members of the graduating class of 2017 who had taken the SAT as a percentage of the total number of high school graduates that year in a particular state|\n",
    "|sat_2017_erw|float|SAT|State-level mean score for SAT 'Evidence-Based Reading and Writing' test in 2017|\n",
    "|sat_2017_math|float|SAT|State-level mean score for SAT Math test in 2017|\n",
    "|sat_2017_total|float|SAT|State-level mean total SAT score (sum of scores for 'Evidence-Based Reading and Writing' and Math tests for 2017|\n",
    "|sat_2018_participation|float|SAT|Members of the graduating class of 2018 who had taken the SAT as a percentage of the total number of high school graduates that year in a particular state|\n",
    "|sat_2018_erw|float|SAT|State-level mean score for SAT 'Evidence-Based Reading and Writing' test in 2018|\n",
    "|sat_2018_math|float|SAT|State-level mean score for SAT Math test in 2018|\n",
    "|sat_2018_total|float|SAT|State-level mean total SAT score (sum of scores for 'Evidence-Based Reading and Writing' and Math tests for 2018|"
   ]
  },
  {
   "cell_type": "markdown",
   "metadata": {},
   "source": [
    "## Exploratory Data Analysis\n",
    "\n",
    "Complete the following steps to explore your data. You are welcome to do more EDA than the steps outlined here as you feel necessary:\n",
    "1. Summary Statistics.\n",
    "2. Use a **dictionary comprehension** to apply the standard deviation function you create in part 1 to each numeric column in the dataframe.  **No loops**.\n",
    "    - Assign the output to variable `sd` as a dictionary where: \n",
    "        - Each column name is now a key \n",
    "        - That standard deviation of the column is the value \n",
    "        - *Example Output :* `{'ACT_Math': 120, 'ACT_Reading': 120, ...}`\n",
    "3. Investigate trends in the data.\n",
    "    - Using sorting and/or masking (along with the `.head()` method to avoid printing our entire dataframe), consider questions relevant to your problem statement. Some examples are provided below (but feel free to change these questions for your specific problem):\n",
    "        - Which states have the highest and lowest participation rates for the 2017, 2019, or 2019 SAT and ACT?\n",
    "        - Which states have the highest and lowest mean total/composite scores for the 2017, 2019, or 2019 SAT and ACT?\n",
    "        - Do any states with 100% participation on a given test have a rate change year-to-year?\n",
    "        - Do any states show have >50% participation on *both* tests each year?\n",
    "        - Which colleges have the highest median SAT and ACT scores for admittance?\n",
    "        - Which California school districts have the highest and lowest mean test scores?\n",
    "    - **You should comment on your findings at each step in a markdown cell below your code block**. Make sure you include at least one example of sorting your dataframe by a column, and one example of using boolean filtering (i.e., masking) to select a subset of the dataframe."
   ]
  },
  {
   "cell_type": "code",
   "execution_count": null,
   "metadata": {},
   "outputs": [],
   "source": [
    "#Summary Statistics #transposed \n",
    "final_merged.describe().T"
   ]
  },
  {
   "cell_type": "code",
   "execution_count": null,
   "metadata": {},
   "outputs": [],
   "source": [
    "#Creating sd dictionary \n",
    "\n",
    "sd = {} #define sd as a dictionary\n",
    "for col in final_merged.iloc[:,1:]: #iterate through the column names\n",
    "    sd[col] = standard_deviation(final_merged[col]) #assign col name as key and standard deviation as value\n",
    "\n",
    "#checking dictionary items\n",
    "print(sd) \n",
    "#checking number of key-value pairs -should be 20 to correspond to number of columns\n",
    "len(sd)"
   ]
  },
  {
   "cell_type": "markdown",
   "metadata": {},
   "source": [
    "## Investigate trends in the data\n",
    "Using sorting and/or masking along with the .head() method"
   ]
  },
  {
   "cell_type": "markdown",
   "metadata": {},
   "source": [
    "You should comment on your findings at each step in a markdown cell below your code block. Make sure you include at least one example of sorting your dataframe by a column, and one example of using boolean filtering (i.e., masking) to select a subset of the dataframe."
   ]
  },
  {
   "cell_type": "markdown",
   "metadata": {},
   "source": [
    "#### Which states have the highest and lowest participation rates for the 2017, 2018 SAT and ACT?"
   ]
  },
  {
   "cell_type": "markdown",
   "metadata": {},
   "source": [
    "#### ACT"
   ]
  },
  {
   "cell_type": "code",
   "execution_count": null,
   "metadata": {
    "scrolled": true
   },
   "outputs": [],
   "source": [
    "#Highest ACT participation rates in 2017\n",
    "final_merged.loc[ : ,['State', 'act_2017_participation']].sort_values(by = 'act_2017_participation', ascending = False).head(10)"
   ]
  },
  {
   "cell_type": "markdown",
   "metadata": {},
   "source": [
    "At least 10 states have 100% participation rate for ACT in 2017."
   ]
  },
  {
   "cell_type": "code",
   "execution_count": null,
   "metadata": {},
   "outputs": [],
   "source": [
    "#Checking number of states with 100% participation rate\n",
    "final_merged.loc[ : ,['act_2017_participation']].value_counts().head()"
   ]
  },
  {
   "cell_type": "markdown",
   "metadata": {},
   "source": [
    "Total of 17 states have 100% ACT participation rate in 2017"
   ]
  },
  {
   "cell_type": "code",
   "execution_count": null,
   "metadata": {
    "scrolled": true
   },
   "outputs": [],
   "source": [
    "#Checking the name of states with 100% participation rate\n",
    "final_merged.loc[ : ,['State','act_2017_participation']].loc[final_merged['act_2017_participation'] == 1]"
   ]
  },
  {
   "cell_type": "markdown",
   "metadata": {},
   "source": [
    "The 17 states with 100% ACT participation rate in 2017: 'Alabama', 'Arkansas', 'Colorado', 'Kentucky', 'Louisiana', 'Minnesota', 'Mississippi', 'Missouri', 'Montana', 'Nevada', 'North Carolina', 'Oklahoma', 'South Carolina', 'Tennessee', 'Utah', 'Wisconsin', 'Wyoming'."
   ]
  },
  {
   "cell_type": "code",
   "execution_count": null,
   "metadata": {},
   "outputs": [],
   "source": [
    "#Highest ACT participation rates in 2018\n",
    "final_merged.loc[ : ,['State', 'act_2018_participation']].sort_values(by = 'act_2018_participation', ascending = False).head(10)"
   ]
  },
  {
   "cell_type": "markdown",
   "metadata": {},
   "source": [
    "At least 10 states have 100% participation rate for ACT in 2018."
   ]
  },
  {
   "cell_type": "code",
   "execution_count": null,
   "metadata": {},
   "outputs": [],
   "source": [
    "#Checking number of states with 100% participation rate\n",
    "final_merged.loc[ : ,['act_2018_participation']].value_counts().head()"
   ]
  },
  {
   "cell_type": "markdown",
   "metadata": {},
   "source": [
    "The number of states with 100% ACT participation in 2018 remains unchanged from 2017 (17 states)."
   ]
  },
  {
   "cell_type": "code",
   "execution_count": null,
   "metadata": {
    "scrolled": true
   },
   "outputs": [],
   "source": [
    "#Checking the name of states with 100% participation rate\n",
    "final_merged.loc[ : ,['State','act_2018_participation']].loc[final_merged['act_2018_participation'] == 1]"
   ]
  },
  {
   "cell_type": "markdown",
   "metadata": {},
   "source": [
    "States with 100% ACT participation rate in 2018: 'Alabama', 'Arkansas', 'Kentucky', 'Louisiana', 'Mississippi', 'Missouri', 'Montana', 'Nebraska', 'Nevada', 'North Carolina', 'Ohio', 'Oklahoma', 'South Carolina', 'Tennessee', 'Utah', 'Wisconsin', 'Wyoming'"
   ]
  },
  {
   "cell_type": "markdown",
   "metadata": {},
   "source": [
    "#### SAT"
   ]
  },
  {
   "cell_type": "code",
   "execution_count": null,
   "metadata": {
    "scrolled": true
   },
   "outputs": [],
   "source": [
    "#Highest SAT participation rates in 2017\n",
    "final_merged.loc[ : ,['State', 'sat_2017_participation']].sort_values(by = 'sat_2017_participation', ascending = False).head(10)"
   ]
  },
  {
   "cell_type": "markdown",
   "metadata": {},
   "source": [
    "District of Columbia (offered free), Michigan (mandatory), Connecticut (mandatory), Delaware (mandatory) and New Hampshire (mandatory) are the top 5 states with the highest SAT participation rate in 2017. Maine and Idaho (offered free) also rank high in participation rate at 95% and 93% respectively."
   ]
  },
  {
   "cell_type": "code",
   "execution_count": null,
   "metadata": {
    "scrolled": false
   },
   "outputs": [],
   "source": [
    "#Highest SAT participation rates in 2018\n",
    "final_merged.loc[ : ,['State', 'sat_2018_participation']].sort_values(by = 'sat_2018_participation', ascending = False).head(10)"
   ]
  },
  {
   "cell_type": "markdown",
   "metadata": {},
   "source": [
    "Within the top 5 states for SAT participation, Michigan (mandatory), Connecticut (mandatory), Delaware (mandatory) and New Hampshire (mandatory) remain, while District of Columbia (dropped to 92%) has been replaced by Colorado in 2018. This is likely due to change in SAT policy in Colorado (offered free from 2016-2017 onwards). Participation rate for Idaho rose from 93% to 100%. "
   ]
  },
  {
   "cell_type": "markdown",
   "metadata": {},
   "source": [
    "#### Which states have the highest and lowest mean total/composite scores for the 2017, 2018 SAT and ACT?"
   ]
  },
  {
   "cell_type": "markdown",
   "metadata": {},
   "source": [
    "#### ACT"
   ]
  },
  {
   "cell_type": "code",
   "execution_count": null,
   "metadata": {},
   "outputs": [],
   "source": [
    "#Highest Composite score for 2017\n",
    "final_merged.loc[:,[\"act_2017_composite\"]].max() # highest composite score is 25.5\n",
    "\n",
    "#search for state with highest Composite score \n",
    "final_merged.loc[:,[\"State\", \"act_2017_composite\"]].loc[final_merged[\"act_2017_composite\"] == 25.5]"
   ]
  },
  {
   "cell_type": "markdown",
   "metadata": {},
   "source": [
    "New Hampshire has highest ACT mean composite score for 2017"
   ]
  },
  {
   "cell_type": "code",
   "execution_count": null,
   "metadata": {},
   "outputs": [],
   "source": [
    "#Lowest Composite score for 2017\n",
    "final_merged.loc[:,[\"act_2017_composite\"]].min() # lowest composite score is 17.8\n",
    "\n",
    "#search for state with lowest Composite score \n",
    "final_merged.loc[:,[\"State\", \"act_2017_composite\"]].loc[final_merged[\"act_2017_composite\"] == 17.8]"
   ]
  },
  {
   "cell_type": "markdown",
   "metadata": {},
   "source": [
    "Nevada has lowest ACT mean composite score for 2017"
   ]
  },
  {
   "cell_type": "code",
   "execution_count": null,
   "metadata": {},
   "outputs": [],
   "source": [
    "#Highest Composite score for 2018\n",
    "final_merged.loc[:,[\"act_2018_composite\"]].max() # highest composite score is 25.6\n",
    "\n",
    "#search for state with highest Composite score \n",
    "final_merged.loc[:,[\"State\", \"act_2018_composite\"]].loc[final_merged[\"act_2018_composite\"] == 25.6]"
   ]
  },
  {
   "cell_type": "markdown",
   "metadata": {},
   "source": [
    "Connecticut has highest ACT mean composite score for 2018"
   ]
  },
  {
   "cell_type": "code",
   "execution_count": null,
   "metadata": {},
   "outputs": [],
   "source": [
    "#Lowest Composite score for 2018\n",
    "final_merged.loc[:,[\"act_2018_composite\"]].min() # lowest composite score is 17.7\n",
    "\n",
    "#search for state with lowest Composite score \n",
    "final_merged.loc[:,[\"State\", \"act_2018_composite\"]].loc[final_merged[\"act_2018_composite\"] == 17.7]"
   ]
  },
  {
   "cell_type": "markdown",
   "metadata": {},
   "source": [
    "Nevada has lowest ACT mean composite score for 2018"
   ]
  },
  {
   "cell_type": "markdown",
   "metadata": {},
   "source": [
    "#### SAT"
   ]
  },
  {
   "cell_type": "code",
   "execution_count": null,
   "metadata": {},
   "outputs": [],
   "source": [
    "#Highest Total score for 2017\n",
    "final_merged.loc[:,[\"sat_2017_total\"]].max() # highest total score is 1295\n",
    "\n",
    "#search for state with highest Total score \n",
    "final_merged.loc[:,[\"State\", \"sat_2017_total\"]].loc[final_merged[\"sat_2017_total\"] == 1295]"
   ]
  },
  {
   "cell_type": "markdown",
   "metadata": {},
   "source": [
    "Minnesota has highest SAT mean Total score for 2017"
   ]
  },
  {
   "cell_type": "code",
   "execution_count": null,
   "metadata": {},
   "outputs": [],
   "source": [
    "#Lowest Total score for 2017\n",
    "final_merged.loc[:,[\"sat_2017_total\"]].min() # highest total score is 950\n",
    "\n",
    "#search for state with highest Total score \n",
    "final_merged.loc[:,[\"State\", \"sat_2017_total\"]].loc[final_merged[\"sat_2017_total\"] == 950]"
   ]
  },
  {
   "cell_type": "markdown",
   "metadata": {},
   "source": [
    "District of Columbia has lowest SAT mean Total score for 2017"
   ]
  },
  {
   "cell_type": "code",
   "execution_count": null,
   "metadata": {},
   "outputs": [],
   "source": [
    "#Highest Total score for 2018\n",
    "final_merged.loc[:,[\"sat_2018_total\"]].max() # highest total score is 1298\n",
    "\n",
    "#search for state with highest Total score \n",
    "final_merged.loc[:,[\"State\", \"sat_2018_total\"]].loc[final_merged[\"sat_2018_total\"] == 1298]"
   ]
  },
  {
   "cell_type": "markdown",
   "metadata": {},
   "source": [
    "Minnesota has highest SAT mean Total score for 2018"
   ]
  },
  {
   "cell_type": "code",
   "execution_count": null,
   "metadata": {},
   "outputs": [],
   "source": [
    "#Lowest Total score for 2018\n",
    "final_merged.loc[:,[\"sat_2018_total\"]].min() # highest total score is 977\n",
    "\n",
    "#search for state with highest Total score \n",
    "final_merged.loc[:,[\"State\", \"sat_2018_total\"]].loc[final_merged[\"sat_2018_total\"] == 977]"
   ]
  },
  {
   "cell_type": "markdown",
   "metadata": {},
   "source": [
    "District of Columbia has lowest SAT mean Total score for 2018"
   ]
  },
  {
   "cell_type": "markdown",
   "metadata": {},
   "source": [
    "The states with the highest (Minnesota) and lowest (District of Columbia) SAT total score remained unchanged in 2017 and 2018. "
   ]
  },
  {
   "cell_type": "markdown",
   "metadata": {},
   "source": [
    "#### Do any states with 100% participation on a given test have a rate change year-to-year?"
   ]
  },
  {
   "cell_type": "markdown",
   "metadata": {},
   "source": [
    "#### ACT"
   ]
  },
  {
   "cell_type": "code",
   "execution_count": null,
   "metadata": {},
   "outputs": [],
   "source": [
    "#Comparing difference in states with 100% ACT participation in 2017 vs 2018\n",
    "a = final_merged.loc[ : ,['State']].loc[final_merged['act_2017_participation'] == 1]\n",
    "b = final_merged.loc[ : ,['State']].loc[final_merged['act_2018_participation'] == 1]\n",
    "lst17 = []\n",
    "lst18 = []\n",
    "for state in a.iloc[:,0]:\n",
    "    lst17.append(state) #create list of states with 100% participation in 2017\n",
    "for state in b.iloc[:,0]: \n",
    "    lst18.append(state) #create list of states with 100% participation in 2018\n",
    "    \n",
    "#looking for difference in states between both lists    \n",
    "[x for x in lst17 if x not in lst18] #['Colorado', 'Minnesota']\n",
    "[x for x in lst18 if x not in lst17] #['Nebraska', 'Ohio']"
   ]
  },
  {
   "cell_type": "markdown",
   "metadata": {},
   "source": [
    "'Colorado' and 'Minnesota' no longer had 100% ACT participation in 2018 (30% and 99% respectively) compared to 2017. They have been replaced by Nebraska and Ohio in 2018."
   ]
  },
  {
   "cell_type": "markdown",
   "metadata": {},
   "source": [
    "#### SAT"
   ]
  },
  {
   "cell_type": "code",
   "execution_count": null,
   "metadata": {},
   "outputs": [],
   "source": [
    "#Comparing difference in states with 100% SAT participation in 2017 vs 2018\n",
    "a = final_merged.loc[ : ,['State']].loc[final_merged['sat_2017_participation'] == 1]\n",
    "b = final_merged.loc[ : ,['State']].loc[final_merged['sat_2018_participation'] == 1]\n",
    "lst17 = []\n",
    "lst18 = []\n",
    "for state in a.iloc[:,0]:\n",
    "    lst17.append(state) #create list of states with 100% SAT participation in 2017\n",
    "for state in b.iloc[:,0]: \n",
    "    lst18.append(state) #create list of states with 100% SAT participation in 2018\n",
    "    \n",
    "#looking for difference in states between both lists    \n",
    "[x for x in lst17 if x not in lst18] #['District of Columbia']\n",
    "[x for x in lst18 if x not in lst17] #['Colorado', 'Idaho']"
   ]
  },
  {
   "cell_type": "markdown",
   "metadata": {},
   "source": [
    "Amongst states with 100% SAT participation in 2017, District of Columbia (92%) dropped from the list in 2018. Colorado and Idaho appeared in 2018."
   ]
  },
  {
   "cell_type": "markdown",
   "metadata": {},
   "source": [
    "#### Do any states show have >50% participation on both tests each year?"
   ]
  },
  {
   "cell_type": "markdown",
   "metadata": {},
   "source": [
    "#### ACT"
   ]
  },
  {
   "cell_type": "code",
   "execution_count": null,
   "metadata": {},
   "outputs": [],
   "source": [
    "#states with ACT participation >50% in 2017 \n",
    "act_2017_p50 = final_merged.loc[ : ,['State']].loc[final_merged['act_2017_participation'] > 0.5]\n",
    "#states with ACT participation >50% in 2018 \n",
    "act_2018_p50 = final_merged.loc[ : ,['State']].loc[final_merged['act_2018_participation'] > 0.5]\n",
    "\n",
    "len(act_2017_p50) #31 states have ACT participation >50% in 2017\n",
    "len(act_2018_p50) #28 states have ACT participation >50% in 2018"
   ]
  },
  {
   "cell_type": "code",
   "execution_count": null,
   "metadata": {},
   "outputs": [],
   "source": [
    "actp50_17 = []\n",
    "actp50_18 = []\n",
    "for state in act_2017_p50.iloc[:,0]:\n",
    "    actp50_17.append(state) #create list of states with >50% SAT participation in 2017\n",
    "for state in act_2018_p50.iloc[:,0]: \n",
    "    actp50_18.append(state) #create list of states with >50% SAT participation in 2018\n",
    "    \n",
    "#looking for difference in states between both lists    \n",
    "[x for x in actp50_17 if x not in actp50_18] #['Alaska', 'Colorado', 'Illinois']\n",
    "[x for x in actp50_18 if x not in actp50_17] #None"
   ]
  },
  {
   "cell_type": "markdown",
   "metadata": {},
   "source": [
    "There were fewer states with >50% participation in ACT in 2018 (28) compared to 2017 (31). 'Alaska', 'Colorado', 'Illinois' failed to maintain >50% participation in ACT in 2017. The other states in the list remained unchanged."
   ]
  },
  {
   "cell_type": "markdown",
   "metadata": {},
   "source": [
    "#### SAT"
   ]
  },
  {
   "cell_type": "code",
   "execution_count": null,
   "metadata": {},
   "outputs": [],
   "source": [
    "#states with SAT participation >50% in 2017 \n",
    "sat_2017_p50 = final_merged.loc[ : ,['State']].loc[final_merged['sat_2017_participation'] > 0.5]\n",
    "#states with ACT participation >50% in 2018 \n",
    "sat_2018_p50 = final_merged.loc[ : ,['State']].loc[final_merged['sat_2018_participation'] > 0.5]\n",
    "\n",
    "len(sat_2017_p50) #22 states have SAT participation >50% in 2017\n",
    "len(sat_2018_p50) #26 states have SAT participation >50% in 2018"
   ]
  },
  {
   "cell_type": "code",
   "execution_count": null,
   "metadata": {},
   "outputs": [],
   "source": [
    "satp50_17 = []\n",
    "satp50_18 = []\n",
    "for state in sat_2017_p50.iloc[:,0]:\n",
    "    satp50_17.append(state) #create list of states with >50% SAT participation in 2017\n",
    "for state in sat_2018_p50.iloc[:,0]: \n",
    "    satp50_18.append(state) #create list of states with >50% SAT participation in 2018\n",
    "    \n",
    "#looking for difference in states between both lists    \n",
    "[x for x in satp50_17 if x not in satp50_18] #None\n",
    "[x for x in satp50_18 if x not in satp50_17] #'Colorado', 'Illinois', 'North Carolina', 'South Carolina'"
   ]
  },
  {
   "cell_type": "markdown",
   "metadata": {},
   "source": [
    "There were more states with >50% participation in SAT in 2018 (26) compared to 2017 (22). The new states were 'Colorado', 'Illinois', 'North Carolina' and 'South Carolina'. The other states in the list remained unchanged."
   ]
  },
  {
   "cell_type": "markdown",
   "metadata": {},
   "source": [
    "**To-Do:** *Edit this cell with your findings on trends in the data (step 3 above).*"
   ]
  },
  {
   "cell_type": "markdown",
   "metadata": {},
   "source": [
    "## Visualize the Data\n",
    "\n",
    "There's not a magic bullet recommendation for the right number of plots to understand a given dataset, but visualizing your data is *always* a good idea. Not only does it allow you to quickly convey your findings (even if you have a non-technical audience), it will often reveal trends in your data that escaped you when you were looking only at numbers. It is important to not only create visualizations, but to **interpret your visualizations** as well.\n",
    "\n",
    "**Every plot should**:\n",
    "- Have a title\n",
    "- Have axis labels\n",
    "- Have appropriate tick labels\n",
    "- Text is legible in a plot\n",
    "- Plots demonstrate meaningful and valid relationships\n",
    "- Have an interpretation to aid understanding\n",
    "\n",
    "Here is an example of what your plots should look like following the above guidelines. Note that while the content of this example is unrelated, the principles of visualization hold:\n",
    "\n",
    "![](https://snag.gy/hCBR1U.jpg)\n",
    "*Interpretation: The above image shows that as we increase our spending on advertising, our sales numbers also tend to increase. There is a positive correlation between advertising spending and sales.*\n",
    "\n",
    "---\n",
    "\n",
    "Here are some prompts to get you started with visualizations. Feel free to add additional visualizations as you see fit:\n",
    "1. Use Seaborn's heatmap with pandas `.corr()` to visualize correlations between all numeric features.\n",
    "    - Heatmaps are generally not appropriate for presentations, and should often be excluded from reports as they can be visually overwhelming. **However**, they can be extremely useful in identify relationships of potential interest (as well as identifying potential collinearity before modeling).\n",
    "    - Please take time to format your output, adding a title. Look through some of the additional arguments and options. (Axis labels aren't really necessary, as long as the title is informative).\n",
    "2. Visualize distributions using histograms. If you have a lot, consider writing a custom function and use subplots.\n",
    "    - *OPTIONAL*: Summarize the underlying distributions of your features (in words & statistics)\n",
    "         - Be thorough in your verbal description of these distributions.\n",
    "         - Be sure to back up these summaries with statistics.\n",
    "         - We generally assume that data we sample from a population will be normally distributed. Do we observe this trend? Explain your answers for each distribution and how you think this will affect estimates made from these data.\n",
    "3. Plot and interpret boxplots. \n",
    "    - Boxplots demonstrate central tendency and spread in variables. In a certain sense, these are somewhat redundant with histograms, but you may be better able to identify clear outliers or differences in IQR, etc.\n",
    "    - Multiple values can be plotted to a single boxplot as long as they are of the same relative scale (meaning they have similar min/max values).\n",
    "    - Each boxplot should:\n",
    "        - Only include variables of a similar scale\n",
    "        - Have clear labels for each variable\n",
    "        - Have appropriate titles and labels\n",
    "4. Plot and interpret scatter plots to view relationships between features. Feel free to write a custom function, and subplot if you'd like. Functions save both time and space.\n",
    "    - Your plots should have:\n",
    "        - Two clearly labeled axes\n",
    "        - A proper title\n",
    "        - Colors and symbols that are clear and unmistakable\n",
    "5. Additional plots of your choosing.\n",
    "    - Are there any additional trends or relationships you haven't explored? Was there something interesting you saw that you'd like to dive further into? It's likely that there are a few more plots you might want to generate to support your narrative and recommendations that you are building toward. **As always, make sure you're interpreting your plots as you go**."
   ]
  },
  {
   "cell_type": "markdown",
   "metadata": {},
   "source": [
    "#### Use Seaborn's heatmap with pandas .corr() to visualize correlations between all numeric features."
   ]
  },
  {
   "cell_type": "code",
   "execution_count": null,
   "metadata": {
    "scrolled": true
   },
   "outputs": [],
   "source": [
    "#Heatmap to visualise correlations between all variable pairs\n",
    "\n",
    "fig, ax = plt.subplots(figsize=(24, 20))\n",
    "ax.set_title(\"correlation heatmap\", fontsize=14)\n",
    "sat_act_correlations = final_merged.corr();\n",
    "sns.heatmap(sat_act_correlations, linewidths=0.1, annot=True)\n",
    "\n",
    "ax.set_title(\"correlation heatmap\",fontsize=14)\n",
    "ax.set_xlim(0,20)\n",
    "ax.set_ylim(0,20)\n",
    "\n",
    "plt.tight_layout()"
   ]
  },
  {
   "cell_type": "markdown",
   "metadata": {},
   "source": [
    "Initial impressions:\n",
    "1. Participation rates and scores are strongly negatively correlated.\n",
    "2. Participation rates betwen ACT and SAT are strongly negatively correlated.\n",
    "3. Scores and participation rates for each test between 2017 and 2018 are strongly positively correlated. This likely implies largely similar scores, as the method of calculation is same across both years, and overall student population in each state are likely unchanged.\n",
    "4. Scores between ACT and SAT are somewhat negatively correlated. \n",
    "5. ACT participation rates are positively correlated with SAT scores, and similarly so for SAT participation and ACT scores \n",
    "\n",
    "Potential explanation for relationships observed:\n",
    "\n",
    "6. Since students in each state usually take either ACT or SAT, the participation rate for both tests would be negatively correlated.\n",
    "7. As participation rate increases, the quality of candidates broadens, hence bringing down the mean test scores. Hence participation rate and scores tend to be negatively correlated.\n",
    "8. Deriving from points 7 and 8, increase in participation rate for one test, e.g. ACT participation increases, leads to decrease participation for the other test, e.g. SAT participation drops, which indicates a narrower candidate base and tighter spread of student quality, bringing up the mean score (e.g. SAT score increases).  "
   ]
  },
  {
   "cell_type": "markdown",
   "metadata": {},
   "source": [
    "#### Visualize distributions using histograms. If you have a lot, consider writing a custom function and use subplots."
   ]
  },
  {
   "cell_type": "code",
   "execution_count": null,
   "metadata": {},
   "outputs": [],
   "source": [
    "# set lists to split dataframe for plots\n",
    "sat_scores = ['sat_2017_erw','sat_2017_math', 'sat_2018_erw','sat_2018_math']\n",
    "sat_totals = ['sat_2017_total','sat_2018_total']\n",
    "act_scores = ['act_2017_eng','act_2017_math','act_2017_reading','act_2017_science', \n",
    "     'act_2018_eng','act_2018_math','act_2018_reading','act_2018_science']\n",
    "act_composites = ['act_2017_composite','act_2018_composite'] \n",
    "participation_rates = ['act_2017_participation','act_2018_participation',\n",
    "              'sat_2017_participation','sat_2018_participation']"
   ]
  },
  {
   "cell_type": "code",
   "execution_count": null,
   "metadata": {
    "scrolled": false
   },
   "outputs": [],
   "source": [
    "#histogram subplots of participation rates for ACT, SAT in both 2017 and 2018 #4 subplots\n",
    "final_merged[participation_rates].hist(\n",
    "    figsize=(16,8))\n",
    "\n",
    "plt.tight_layout()"
   ]
  },
  {
   "cell_type": "markdown",
   "metadata": {},
   "source": [
    "The distribution for participation in both years is bimodal, as opposed to normal."
   ]
  },
  {
   "cell_type": "code",
   "execution_count": null,
   "metadata": {},
   "outputs": [],
   "source": [
    "#histogram subplots of composite/total scores for ACT, SAT in both 2017 and 2018 #4 subplots\n",
    "final_merged[\n",
    "    ['act_2017_composite','act_2018_composite','sat_2017_total','sat_2018_total']].hist(\n",
    "    figsize=(16,8));"
   ]
  },
  {
   "cell_type": "markdown",
   "metadata": {},
   "source": [
    "The distribution for total and composite scores in SAT and ACT respectively, is bimodal for both 2017 and 2018, as opposed to normal."
   ]
  },
  {
   "cell_type": "code",
   "execution_count": null,
   "metadata": {
    "scrolled": true
   },
   "outputs": [],
   "source": [
    "#histogram subplots of individual subject scores for ACT in both 2017 and 2018 #8 subplots\n",
    "#histogram subplots of individual subject scores for SAT in both 2017 and 2018 #4 subplots\n",
    "final_merged[\n",
    "    ['act_2017_eng','act_2017_math','act_2017_reading','act_2017_science', \n",
    "     'act_2018_eng','act_2018_math','act_2018_reading','act_2018_science',\n",
    "     'sat_2017_erw','sat_2017_math', 'sat_2018_erw','sat_2018_math']].hist(\n",
    "    figsize=(16,8));"
   ]
  },
  {
   "cell_type": "markdown",
   "metadata": {},
   "source": [
    "The distribution for individual subject scores in ACT and SAT appears to be bimodal in 2017 and 2018, as opposed to normal."
   ]
  },
  {
   "cell_type": "markdown",
   "metadata": {},
   "source": [
    "The distribution of participation rate, total/composite scores and individual subject scores have a bimodal distribution instead of a normal distribution in 2017 and 2018. However, the distribution of these parameters could approach that of a normal distribution when aggregated across a larger time period, depending on availability of more data."
   ]
  },
  {
   "cell_type": "markdown",
   "metadata": {},
   "source": [
    "#### Plot and interpret boxplots"
   ]
  },
  {
   "cell_type": "code",
   "execution_count": null,
   "metadata": {},
   "outputs": [],
   "source": [
    "#boxplots for participation rates for ACT, SAT in both 2017 and 2018\n",
    "\n",
    "ax = sns.boxplot(data=final_merged[participation_rates], orient='h').set_title(\n",
    "    'ACT and SAT participation rates (2017 and 2018)',fontsize=16)\n",
    "plt.tight_layout()\n"
   ]
  },
  {
   "cell_type": "markdown",
   "metadata": {},
   "source": [
    "The median (50th percentile) participation rates for ACT is generally higher than that for SAT in both years. The boxplot for SAT is generally skewed to the lower end compared to ACT. This seems to suggest that ACT participation is higher than SAT participation in 2017 and 2018."
   ]
  },
  {
   "cell_type": "code",
   "execution_count": null,
   "metadata": {},
   "outputs": [],
   "source": [
    "#Combined for total and individual subjects, ACT and SAT, 2017 and 2018\n",
    "\n",
    "fig, ax = plt.subplots(2,2, figsize=(15, 10)) \n",
    "\n",
    "#boxplots of individual subject scores for ACT in both 2017 and 2018 \n",
    "sns.boxplot(data=final_merged[act_scores],orient='h', ax = ax[0][0]).set_title('ACT subject scores (2017 and 2018)',fontsize=16)\n",
    "plt.setp(ax[0][0].get_xticklabels(), fontsize=14)\n",
    "\n",
    "#boxplots of individual subject scores for SAT in both 2017 and 2018 \n",
    "sns.boxplot(data=final_merged[sat_scores], orient='h', ax = ax[0][1]).set_title('SAT subject scores (2017 and 2018)',fontsize=16)\n",
    "plt.setp(ax[0][1].get_xticklabels(), fontsize=14)\n",
    "\n",
    "#boxplots for ACT composite scores in both 2017 and 2018 \n",
    "sns.boxplot(data=final_merged[act_composites],orient='h', ax = ax[1][0]).set_title('ACT total scores (2017 and 2018)',fontsize=16)\n",
    "plt.setp(ax[1][0].get_xticklabels(), fontsize=14)\n",
    "\n",
    "#boxplots for SAT total scores in both 2017 and 2018 \n",
    "sns.boxplot(data=final_merged[sat_totals],orient='h', ax = ax[1][1]).set_title('SAT total scores (2017 and 2018)',fontsize=16)\n",
    "plt.setp(ax[1][1].get_xticklabels(), fontsize=14)\n",
    "\n",
    "plt.tight_layout()"
   ]
  },
  {
   "cell_type": "markdown",
   "metadata": {},
   "source": [
    "The variation of scores between 2017 and 2018 have remained relatively constant.  "
   ]
  },
  {
   "cell_type": "markdown",
   "metadata": {},
   "source": [
    "#### Plot and interpret scatter plots to view relationships between features. Feel free to write a custom function, and subplot if you'd like. Functions save both time and space."
   ]
  },
  {
   "cell_type": "markdown",
   "metadata": {},
   "source": [
    "* Participation rates and scores are strongly negatively correlated.\n",
    "* Participation rates betwen ACT and SAT are strongly negatively correlated.\n",
    "* Scores and participation rates for each test between 2017 and 2018 are strongly positively correlated. This likely implies largely similar scores, as the method of calculation is same across both years, and overall student population in each state are likely unchanged.\n",
    "* Scores between ACT and SAT are somewhat negatively correlated.\n",
    "* ACT participation rates are positively correlated with SAT scores, and similarly so for SAT participation and ACT scores"
   ]
  },
  {
   "cell_type": "code",
   "execution_count": 44,
   "metadata": {
    "scrolled": true
   },
   "outputs": [
    {
     "data": {
      "image/png": "[encoded data removed]",
      "text/plain": [
       "<Figure size 1080x720 with 4 Axes>"
      ]
     },
     "metadata": {
      "needs_background": "light"
     },
     "output_type": "display_data"
    }
   ],
   "source": [
    "# participation rates vs total/composite scores, for 2017 and 2018 \n",
    "\n",
    "fig, ax = plt.subplots(2,2, figsize=(15, 10)) \n",
    "\n",
    "# ACT 2017 - participation vs composite score\n",
    "sns.regplot(y='act_2017_participation', x='act_2017_composite', data=final_merged, ax = ax[0][0]).set_title(\n",
    "    'ACT 2017 participation rate vs composite score',fontsize=16)\n",
    "plt.setp(ax[0][0].get_xticklabels(), fontsize=14);\n",
    "\n",
    "# ACT 2018 - participation vs composite score\n",
    "sns.regplot(y='act_2018_participation', x='act_2018_composite', data=final_merged, ax = ax[0][1]).set_title(\n",
    "    'ACT 2018 participation rate vs composite score',fontsize=16)\n",
    "plt.setp(ax[0][1].get_xticklabels(), fontsize=14);\n",
    "\n",
    "# SAT 2017 - participation vs total score\n",
    "sns.regplot(y='sat_2017_participation', x='sat_2017_total', data=final_merged, ax = ax[1][0]).set_title(\n",
    "    'SAT 2017 participation rate vs total score',fontsize=16)\n",
    "plt.setp(ax[1][0].get_xticklabels(), fontsize=14);\n",
    "\n",
    "# SAT 2018 - participation vs total score\n",
    "sns.regplot(y='sat_2018_participation', x='sat_2018_total', data=final_merged, ax = ax[1][1]).set_title(\n",
    "    'SAT 2018 participation rate vs total score',fontsize=16)\n",
    "plt.setp(ax[1][1].get_xticklabels(), fontsize=14);\n",
    "\n",
    "plt.tight_layout()\n",
    "plt.savefig('Participation vs total score')"
   ]
  },
  {
   "cell_type": "markdown",
   "metadata": {},
   "source": [
    "Participation rates tend to correlate negatively with total score for both ACT and SAT in both years. Higher participation usually leads to greater spread in candidate abilities, which likely causes a decrease in mean total score."
   ]
  },
  {
   "cell_type": "code",
   "execution_count": 42,
   "metadata": {},
   "outputs": [
    {
     "data": {
      "image/png": "[encoded data removed]",
      "text/plain": [
       "<Figure size 720x288 with 2 Axes>"
      ]
     },
     "metadata": {
      "needs_background": "light"
     },
     "output_type": "display_data"
    }
   ],
   "source": [
    "#compare participation rate between act and sat, for 2017 and 2018\n",
    "plt.figure(figsize=(10,4))\n",
    "\n",
    "# ACT participation vs SAT participation - 2017 \n",
    "plt.subplot(1,2,1)\n",
    "sns.regplot(x='act_2017_participation', y='sat_2017_participation', data=final_merged).set_title(\n",
    "    'ACT vs SAT participation - 2017 ',fontsize=14)\n",
    "plt.setp(ax[0][1].get_xticklabels(), fontsize=14);\n",
    "\n",
    "# ACT participation vs SAT participation - 2018 \n",
    "plt.subplot(1,2,2)\n",
    "sns.regplot(x='act_2018_participation', y='sat_2018_participation', data=final_merged).set_title(\n",
    "    'ACT vs SAT participation - 2018',fontsize=14)\n",
    "plt.setp(ax[1][0].get_xticklabels(), fontsize=14);\n",
    "plt.tight_layout()\n",
    "plt.savefig('ACT vs SAT participation')"
   ]
  },
  {
   "cell_type": "markdown",
   "metadata": {},
   "source": [
    "ACT and SAT participation rates tend to be negatively correlated. This is likely because most students tend to take either one of the test before high school graduation. "
   ]
  },
  {
   "cell_type": "code",
   "execution_count": null,
   "metadata": {},
   "outputs": [],
   "source": [
    "#total score between ACT and SAT, for 2017 and 2018\n",
    "\n",
    "plt.figure(figsize=(10,4))\n",
    "\n",
    "# ACT composite vs SAT total - 2017 \n",
    "plt.subplot(1,2,1)\n",
    "sns.regplot(x='act_2017_composite', y='sat_2017_total', data=final_merged).set_title(\n",
    "    'SAT vs ACT total score - 2017 ',fontsize=14)\n",
    "\n",
    "# ACT composite vs SAT total - 2018 \n",
    "plt.subplot(1,2,2)\n",
    "sns.regplot(x='act_2018_composite', y='sat_2018_total', data=final_merged).set_title(\n",
    "    'SAT vs ACT total score - 2018',fontsize=14)\n",
    "plt.tight_layout()"
   ]
  },
  {
   "cell_type": "markdown",
   "metadata": {},
   "source": [
    "SAT total and ACT composite scores tend to be negatively correlated. This confirms the negative correlation observed earlier between participation rate and total score for each test, and participation rate between SAT and ACT.    "
   ]
  },
  {
   "cell_type": "code",
   "execution_count": 40,
   "metadata": {},
   "outputs": [
    {
     "data": {
      "image/png": "[encoded data removed]",
      "text/plain": [
       "<Figure size 1080x720 with 4 Axes>"
      ]
     },
     "metadata": {
      "needs_background": "light"
     },
     "output_type": "display_data"
    }
   ],
   "source": [
    "#ACT participation rate vs SAT total scores, 2017 and 2018 \n",
    "#SAT participation rate vs ACT composite scores, 2017 and 2018\n",
    "\n",
    "fig, ax = plt.subplots(2,2, figsize=(15, 10)) \n",
    "\n",
    "# ACT participation vs SAT total - 2017 \n",
    "sns.regplot(x='act_2017_participation', y='sat_2017_total', data=final_merged, ax = ax[0][0]).set_title(\n",
    "    'ACT participation vs SAT total - 2017 ',fontsize=14)\n",
    "\n",
    "# ACT participation vs SAT total - 2018 \n",
    "sns.regplot(x='act_2018_participation', y='sat_2018_total', data=final_merged, ax = ax[0][1]).set_title(\n",
    "    'ACT participation vs SAT total - 2018',fontsize=14)\n",
    "plt.tight_layout()\n",
    "\n",
    "# SAT participation vs ACT composite - 2017 \n",
    "sns.regplot(x='sat_2017_participation', y='act_2017_composite', data=final_merged, ax = ax[1][0]).set_title(\n",
    "    'SAT participation vs ACT composite - 2017',fontsize=14)\n",
    "plt.tight_layout()\n",
    "\n",
    "# SAT participation vs ACT composite - 2018 \n",
    "sns.regplot(x='sat_2018_participation', y='act_2018_composite', data=final_merged, ax = ax[1][1]).set_title(\n",
    "    'SAT participation vs ACT total - 2018',fontsize=14)\n",
    "\n",
    "plt.tight_layout()\n",
    "plt.savefig('participation vs score')"
   ]
  },
  {
   "cell_type": "markdown",
   "metadata": {},
   "source": [
    "The test participation rate for one test tends to correlate positively with the total score for the other test. e.g. Increase in SAT score is usually observed with increase in ACT participation rate. There is likely no direct cause and effect, but rather a combination of the negative correlations between SAT and ACT participation, and test score and participation.  "
   ]
  },
  {
   "cell_type": "markdown",
   "metadata": {},
   "source": [
    "### Summary of trends observed\n",
    "\n",
    "* The distribution of participation rate, total/composite scores and individual subject scores have a bimodal distribution by year, as opposed to a normal distribution as one would expect. However, the distribution could approach that of a normal distribution when aggregated across a larger time period, depending on availability of more data.\n",
    "\n",
    "* ACT participation appears to be higher than SAT participation in 2017 and 2018 based on the skewness and median of the boxplots.\n",
    "\n",
    "* The scores between 2017 and 2018 have remained relatively constant.\n",
    "\n",
    "* Participation rates tend to correlate negatively with total score for both ACT and SAT in both years. Higher participation usually leads to greater spread in candidate abilities, which likely causes a decrease in mean total score.\n",
    "\n",
    "* ACT and SAT participation rates tend to be negatively correlated. This is likely because most students tend to take either one of the test before high school graduation.\n",
    "\n",
    "* Confirming the above 2 observations, i) SAT total and ACT composite scores tend to be negatively correlated, and ii) the test participation rate for one test tends to correlate positively with the total score for the other test. There is likely no direct cause and effect for these two observations."
   ]
  },
  {
   "cell_type": "markdown",
   "metadata": {},
   "source": [
    "## Identifying possible states to increase SAT participation rates"
   ]
  },
  {
   "cell_type": "markdown",
   "metadata": {},
   "source": [
    "In view that SAT candidates tend to be mutually exclusive to ACT takers, as supported by the above analysis, (students tend to choose only one test to study for in view of limited time and resources, though they are not prohibited from taking more than one test), there are 2 possible approach to increase SAT participation:\n",
    "\n",
    "1. In states that have close to full participation in standardised tests, convert students and/or schools preparing for/administering ACT to choose SAT instead for future tests.\n",
    "2. In states that have low to medium participation in standardised tests, a) convince students who were not interested in standardised tests to take the SAT, and b) similar to approach 1, convert students and/or schools preparing for/administering ACT to choose SAT for future tests.\n",
    "\n",
    "#### Considerations\n",
    "* __Inertia to change choice of standardised test__ - Given that ACT is a non-profit with a similar mission to College Board to increase access to higher eduction through standardised tests, requesting schools to switch the standardised test which they are currently using does not advance both organisation's mission by a lot. In addition, there is likely inertia amongst schools and students to change existing workflows and preparations to prepare for a different test, which is viewed equally for college admissions. There are often state policies supporting one standardised over another in states with very high participation rates as well.\n",
    "\n",
    "\n",
    "* __Potential larger issues hindering participation in standardised tests in states with lower participation__ - Standardised tests have a long history in the United States and is widely known as a requirement for college admission. Assuming college admission is viewed upon favorably by the public, the lack of participation in standardised tests amongst a student population likely indicates larger issues at play, such as lack of funding for public education, poor socioeconomic conditions, etc, that might be difficult for the College Board to address. Deeper examination of a particular state's context is required.\n",
    "\n",
    "\n",
    "*__Higher state scores could improve student confidence in taking the tests__ - In choosing which standardised test to take to support their college admissions, students might refer to historical state scores as a gauge of the difficulty of the test and the scores they may receive. This study postulates that higher state level scores could be a positive influence for future batch of students to take a particular test. \n",
    "\n",
    "#### Controlled small scale trials to identify factors \n",
    "As the factors influencing SAT adoption are varied, this study suggests a calibrated approach to identify the effect of these factors, so that College Board resources can be applied in a more targeted manner. Small-scale trials in test groups of states can be carried out to assess the effectiveness of using participation rate and past SAT scores to identify suitable states to receive future support. \n",
    "\n",
    "#### Approach to shortlisting states for conducting trials\n",
    "Step 1: States that have low to medium participation in all standardised tests (ACT and SAT combined). We set the standard arbitrarily at the 50th percentile. \n",
    "\n",
    "Step 2: From the states in Step 1, we identify those states that have a lower proportion of SAT compared to ACT candidates.\n",
    "\n",
    "Step 3: From the 2 groups identified in step 2 (lower vs higher proportion of SAT takers), we identify states with lower past SAT scores. \n",
    "\n",
    "|States with low-mid standardised test participation|Higher past SAT scores|Lower past SAT scores||\n",
    "|:---:|:---:|:---:|---|\n",
    "|Fewer current SAT takers|__Group 1__|__Group 2__||\n",
    "|More current SAT takers|__Group 3__|__Group 4__||\n"
   ]
  },
  {
   "cell_type": "markdown",
   "metadata": {},
   "source": [
    "#### Identifying 25th percentile for total state participation in both standardised tests"
   ]
  },
  {
   "cell_type": "code",
   "execution_count": null,
   "metadata": {
    "scrolled": true
   },
   "outputs": [],
   "source": [
    "print(f\"25th percentile for total participation is {final_merged['combined_participation_avg'].describe()['25%'] }\")\n",
    "#25th percentile is 0.9425"
   ]
  },
  {
   "cell_type": "markdown",
   "metadata": {},
   "source": [
    "#### Identifying 50th percentile for SAT participation rate"
   ]
  },
  {
   "cell_type": "code",
   "execution_count": null,
   "metadata": {},
   "outputs": [],
   "source": [
    "print(f\"50th percentile for average SAT participation is {final_merged['sat_participation_avg'].describe()['50%'] }\") \n",
    "#50th percentile is 0.505 "
   ]
  },
  {
   "cell_type": "markdown",
   "metadata": {},
   "source": [
    "#### Identifying 50th percentile for average SAT total score"
   ]
  },
  {
   "cell_type": "code",
   "execution_count": null,
   "metadata": {},
   "outputs": [],
   "source": [
    "print(f\"50th percentile for average SAT total score is {final_merged['sat_total_average'].describe()['50%'] }\")\n",
    "#50th percentile is 1109.5"
   ]
  },
  {
   "cell_type": "markdown",
   "metadata": {},
   "source": [
    "#### Examining boxplots for total participation in standardised tests, average participation in SAT and average SAT total score"
   ]
  },
  {
   "cell_type": "code",
   "execution_count": 30,
   "metadata": {
    "scrolled": true
   },
   "outputs": [
    {
     "data": {
      "image/png": "[encoded data removed]",
      "text/plain": [
       "<Figure size 720x288 with 3 Axes>"
      ]
     },
     "metadata": {
      "needs_background": "light"
     },
     "output_type": "display_data"
    }
   ],
   "source": [
    "#Average of total participation (ACT + SAT) over 2 years\n",
    "\n",
    "final_merged['combined_participation_avg'] = (final_merged['act_2017_participation'] + final_merged[\n",
    "    'sat_2017_participation'] + final_merged['act_2018_participation'] + final_merged['sat_2018_participation'])/2\n",
    "\n",
    "#Average of SAT participation over 2 years\n",
    "\n",
    "final_merged['sat_participation_avg'] = (final_merged['sat_2017_participation'] + final_merged[\n",
    "    'sat_2018_participation'])/2\n",
    "\n",
    "#Average SAT total score over two years\n",
    "\n",
    "final_merged['sat_total_average'] = (final_merged['sat_2017_total'] + final_merged[\n",
    "    'sat_2018_total'])/2\n",
    "\n",
    "#boxplots\n",
    "plt.figure(figsize=(10,4))\n",
    "\n",
    "#boxplot for combined participation 2017\n",
    "plt.subplot(1,3,1)\n",
    "ax = sns.boxplot(data=final_merged['combined_participation_avg'], orient='h').set_title(\n",
    "    'Combined  participation rates',fontsize=16)\n",
    "\n",
    "#boxplot for combined participation 2017\n",
    "plt.subplot(1,3,2)\n",
    "ax = sns.boxplot(data=final_merged['sat_participation_avg'], orient='h', color = 'g').set_title(\n",
    "    'SAT participation rates',fontsize=16)\n",
    "\n",
    "plt.subplot(1,3,3)\n",
    "ax = sns.boxplot(data=final_merged['sat_total_average'], orient='h', color = 'g').set_title(\n",
    "    'SAT score average',fontsize=16)\n",
    "\n",
    "\n",
    "plt.tight_layout()"
   ]
  },
  {
   "cell_type": "markdown",
   "metadata": {},
   "source": [
    "Observations:\n",
    "* For combined participation rates in ACT and SAT, the 25th percentile falls around 0.925 (25th percentile) and 1.15 (75th percentile).There appears to be a not-insignificant number of students who take both SAT and ACT.\n",
    "* For SAT participation rates, the body of the box plot is long, with median around 0.505.\n",
    "* For average SAT scores, the median lies around 1109.5."
   ]
  },
  {
   "cell_type": "code",
   "execution_count": 32,
   "metadata": {},
   "outputs": [
    {
     "data": {
      "text/html": [
       "<div>\n",
       "<style scoped>\n",
       "    .dataframe tbody tr th:only-of-type {\n",
       "        vertical-align: middle;\n",
       "    }\n",
       "\n",
       "    .dataframe tbody tr th {\n",
       "        vertical-align: top;\n",
       "    }\n",
       "\n",
       "    .dataframe thead th {\n",
       "        text-align: right;\n",
       "    }\n",
       "</style>\n",
       "<table border=\"1\" class=\"dataframe\">\n",
       "  <thead>\n",
       "    <tr style=\"text-align: right;\">\n",
       "      <th></th>\n",
       "      <th>State</th>\n",
       "      <th>combined_participation_avg</th>\n",
       "      <th>sat_participation_avg</th>\n",
       "      <th>sat_total_average</th>\n",
       "    </tr>\n",
       "  </thead>\n",
       "  <tbody>\n",
       "    <tr>\n",
       "      <th>2</th>\n",
       "      <td>Arizona</td>\n",
       "      <td>0.935</td>\n",
       "      <td>0.295</td>\n",
       "      <td>1132.5</td>\n",
       "    </tr>\n",
       "    <tr>\n",
       "      <th>15</th>\n",
       "      <td>Iowa</td>\n",
       "      <td>0.700</td>\n",
       "      <td>0.025</td>\n",
       "      <td>1270.0</td>\n",
       "    </tr>\n",
       "    <tr>\n",
       "      <th>16</th>\n",
       "      <td>Kansas</td>\n",
       "      <td>0.760</td>\n",
       "      <td>0.040</td>\n",
       "      <td>1262.5</td>\n",
       "    </tr>\n",
       "    <tr>\n",
       "      <th>31</th>\n",
       "      <td>New Mexico</td>\n",
       "      <td>0.800</td>\n",
       "      <td>0.135</td>\n",
       "      <td>1115.5</td>\n",
       "    </tr>\n",
       "    <tr>\n",
       "      <th>41</th>\n",
       "      <td>South Dakota</td>\n",
       "      <td>0.815</td>\n",
       "      <td>0.030</td>\n",
       "      <td>1228.0</td>\n",
       "    </tr>\n",
       "  </tbody>\n",
       "</table>\n",
       "</div>"
      ],
      "text/plain": [
       "           State  combined_participation_avg  sat_participation_avg  \\\n",
       "2        Arizona                       0.935                  0.295   \n",
       "15          Iowa                       0.700                  0.025   \n",
       "16        Kansas                       0.760                  0.040   \n",
       "31    New Mexico                       0.800                  0.135   \n",
       "41  South Dakota                       0.815                  0.030   \n",
       "\n",
       "    sat_total_average  \n",
       "2              1132.5  \n",
       "15             1270.0  \n",
       "16             1262.5  \n",
       "31             1115.5  \n",
       "41             1228.0  "
      ]
     },
     "execution_count": 32,
     "metadata": {},
     "output_type": "execute_result"
    }
   ],
   "source": [
    "#Group 1 \n",
    "#total participation < 25th percentile #unchanged\n",
    "#sat participation < 50th percentile\n",
    "#sat average > 50 percentile\n",
    "final_merged[ \\\n",
    "    (final_merged['combined_participation_avg'] < 0.9425) & \\\n",
    "    (final_merged['sat_participation_avg'] < 0.382759) & \\\n",
    "    (final_merged['sat_total_average'] > 1109.5)\n",
    "            ][['State', 'combined_participation_avg', 'sat_participation_avg', 'sat_total_average']]\n",
    "#Arizona, Iowa, Kansas, New Mexico and South Dakota for Group 1"
   ]
  },
  {
   "cell_type": "code",
   "execution_count": 33,
   "metadata": {},
   "outputs": [
    {
     "data": {
      "text/html": [
       "<div>\n",
       "<style scoped>\n",
       "    .dataframe tbody tr th:only-of-type {\n",
       "        vertical-align: middle;\n",
       "    }\n",
       "\n",
       "    .dataframe tbody tr th {\n",
       "        vertical-align: top;\n",
       "    }\n",
       "\n",
       "    .dataframe thead th {\n",
       "        text-align: right;\n",
       "    }\n",
       "</style>\n",
       "<table border=\"1\" class=\"dataframe\">\n",
       "  <thead>\n",
       "    <tr style=\"text-align: right;\">\n",
       "      <th></th>\n",
       "      <th>State</th>\n",
       "      <th>combined_participation_avg</th>\n",
       "      <th>sat_participation_avg</th>\n",
       "      <th>sat_total_average</th>\n",
       "    </tr>\n",
       "  </thead>\n",
       "  <tbody>\n",
       "    <tr>\n",
       "      <th>1</th>\n",
       "      <td>Alaska</td>\n",
       "      <td>0.895</td>\n",
       "      <td>0.405</td>\n",
       "      <td>1093.0</td>\n",
       "    </tr>\n",
       "    <tr>\n",
       "      <th>48</th>\n",
       "      <td>West Virginia</td>\n",
       "      <td>0.880</td>\n",
       "      <td>0.210</td>\n",
       "      <td>1042.5</td>\n",
       "    </tr>\n",
       "  </tbody>\n",
       "</table>\n",
       "</div>"
      ],
      "text/plain": [
       "            State  combined_participation_avg  sat_participation_avg  \\\n",
       "1          Alaska                       0.895                  0.405   \n",
       "48  West Virginia                       0.880                  0.210   \n",
       "\n",
       "    sat_total_average  \n",
       "1              1093.0  \n",
       "48             1042.5  "
      ]
     },
     "execution_count": 33,
     "metadata": {},
     "output_type": "execute_result"
    }
   ],
   "source": [
    "#Group 2 \n",
    "#total participation < 25th percentile #unchanged\n",
    "#sat participation < 50th percentile\n",
    "#sat average < 50 percentile\n",
    "final_merged[ \\\n",
    "    (final_merged['combined_participation_avg'] < 0.9425) & \\\n",
    "    (final_merged['sat_participation_avg'] < 0.505) & \\\n",
    "    (final_merged['sat_total_average'] < 1109.5)\n",
    "            ][['State', 'combined_participation_avg', 'sat_participation_avg', 'sat_total_average']]\n",
    "#Alaska and West Virginia for Group 2"
   ]
  },
  {
   "cell_type": "code",
   "execution_count": 34,
   "metadata": {},
   "outputs": [
    {
     "data": {
      "text/html": [
       "<div>\n",
       "<style scoped>\n",
       "    .dataframe tbody tr th:only-of-type {\n",
       "        vertical-align: middle;\n",
       "    }\n",
       "\n",
       "    .dataframe tbody tr th {\n",
       "        vertical-align: top;\n",
       "    }\n",
       "\n",
       "    .dataframe thead th {\n",
       "        text-align: right;\n",
       "    }\n",
       "</style>\n",
       "<table border=\"1\" class=\"dataframe\">\n",
       "  <thead>\n",
       "    <tr style=\"text-align: right;\">\n",
       "      <th></th>\n",
       "      <th>State</th>\n",
       "      <th>combined_participation_avg</th>\n",
       "      <th>sat_participation_avg</th>\n",
       "      <th>sat_total_average</th>\n",
       "    </tr>\n",
       "  </thead>\n",
       "  <tbody>\n",
       "    <tr>\n",
       "      <th>37</th>\n",
       "      <td>Oregon</td>\n",
       "      <td>0.865</td>\n",
       "      <td>0.455</td>\n",
       "      <td>1112.5</td>\n",
       "    </tr>\n",
       "    <tr>\n",
       "      <th>45</th>\n",
       "      <td>Vermont</td>\n",
       "      <td>0.885</td>\n",
       "      <td>0.620</td>\n",
       "      <td>1117.0</td>\n",
       "    </tr>\n",
       "  </tbody>\n",
       "</table>\n",
       "</div>"
      ],
      "text/plain": [
       "      State  combined_participation_avg  sat_participation_avg  \\\n",
       "37   Oregon                       0.865                  0.455   \n",
       "45  Vermont                       0.885                  0.620   \n",
       "\n",
       "    sat_total_average  \n",
       "37             1112.5  \n",
       "45             1117.0  "
      ]
     },
     "execution_count": 34,
     "metadata": {},
     "output_type": "execute_result"
    }
   ],
   "source": [
    "#Group 3\n",
    "#total participation < 25th percentile #unchanged\n",
    "#sat participation > 50th percentile\n",
    "#sat average > 50 percentile\n",
    "\n",
    "final_merged[ \\\n",
    "    (final_merged['combined_participation_avg'] < 0.9425) & \\\n",
    "    (final_merged['sat_participation_avg'] > 0.382759) & \\\n",
    "    (final_merged['sat_total_average'] > 1109.5)\n",
    "            ] [['State', 'combined_participation_avg', 'sat_participation_avg', 'sat_total_average']]\n",
    "#Oregon, Vermont for Group 3"
   ]
  },
  {
   "cell_type": "code",
   "execution_count": 35,
   "metadata": {},
   "outputs": [
    {
     "data": {
      "text/html": [
       "<div>\n",
       "<style scoped>\n",
       "    .dataframe tbody tr th:only-of-type {\n",
       "        vertical-align: middle;\n",
       "    }\n",
       "\n",
       "    .dataframe tbody tr th {\n",
       "        vertical-align: top;\n",
       "    }\n",
       "\n",
       "    .dataframe thead th {\n",
       "        text-align: right;\n",
       "    }\n",
       "</style>\n",
       "<table border=\"1\" class=\"dataframe\">\n",
       "  <thead>\n",
       "    <tr style=\"text-align: right;\">\n",
       "      <th></th>\n",
       "      <th>State</th>\n",
       "      <th>combined_participation_avg</th>\n",
       "      <th>sat_participation_avg</th>\n",
       "      <th>sat_total_average</th>\n",
       "    </tr>\n",
       "  </thead>\n",
       "  <tbody>\n",
       "    <tr>\n",
       "      <th>1</th>\n",
       "      <td>Alaska</td>\n",
       "      <td>0.895</td>\n",
       "      <td>0.405</td>\n",
       "      <td>1093.0</td>\n",
       "    </tr>\n",
       "    <tr>\n",
       "      <th>4</th>\n",
       "      <td>California</td>\n",
       "      <td>0.855</td>\n",
       "      <td>0.565</td>\n",
       "      <td>1065.5</td>\n",
       "    </tr>\n",
       "    <tr>\n",
       "      <th>38</th>\n",
       "      <td>Pennsylvania</td>\n",
       "      <td>0.890</td>\n",
       "      <td>0.675</td>\n",
       "      <td>1078.5</td>\n",
       "    </tr>\n",
       "    <tr>\n",
       "      <th>47</th>\n",
       "      <td>Washington</td>\n",
       "      <td>0.930</td>\n",
       "      <td>0.665</td>\n",
       "      <td>1078.0</td>\n",
       "    </tr>\n",
       "  </tbody>\n",
       "</table>\n",
       "</div>"
      ],
      "text/plain": [
       "           State  combined_participation_avg  sat_participation_avg  \\\n",
       "1         Alaska                       0.895                  0.405   \n",
       "4     California                       0.855                  0.565   \n",
       "38  Pennsylvania                       0.890                  0.675   \n",
       "47    Washington                       0.930                  0.665   \n",
       "\n",
       "    sat_total_average  \n",
       "1              1093.0  \n",
       "4              1065.5  \n",
       "38             1078.5  \n",
       "47             1078.0  "
      ]
     },
     "execution_count": 35,
     "metadata": {},
     "output_type": "execute_result"
    }
   ],
   "source": [
    "#Group 4\n",
    "#total participation < 25th percentile #unchanged\n",
    "#sat participation > 50th percentile\n",
    "#sat average < 50 percentile\n",
    "\n",
    "final_merged[ \\\n",
    "    (final_merged['combined_participation_avg'] < 0.9425) & \\\n",
    "    (final_merged['sat_participation_avg'] > 0.382759) & \\\n",
    "    (final_merged['sat_total_average'] < 1109.5)\n",
    "            ][['State', 'combined_participation_avg', 'sat_participation_avg', 'sat_total_average']]\n",
    "#Alaska, California, Pennsylvania, Washington"
   ]
  },
  {
   "cell_type": "code",
   "execution_count": 36,
   "metadata": {},
   "outputs": [
    {
     "data": {
      "text/html": [
       "<div>\n",
       "<style scoped>\n",
       "    .dataframe tbody tr th:only-of-type {\n",
       "        vertical-align: middle;\n",
       "    }\n",
       "\n",
       "    .dataframe tbody tr th {\n",
       "        vertical-align: top;\n",
       "    }\n",
       "\n",
       "    .dataframe thead th {\n",
       "        text-align: right;\n",
       "    }\n",
       "</style>\n",
       "<table border=\"1\" class=\"dataframe\">\n",
       "  <thead>\n",
       "    <tr style=\"text-align: right;\">\n",
       "      <th></th>\n",
       "      <th>State</th>\n",
       "      <th>combined_participation_avg</th>\n",
       "    </tr>\n",
       "  </thead>\n",
       "  <tbody>\n",
       "    <tr>\n",
       "      <th>15</th>\n",
       "      <td>Iowa</td>\n",
       "      <td>0.700</td>\n",
       "    </tr>\n",
       "    <tr>\n",
       "      <th>16</th>\n",
       "      <td>Kansas</td>\n",
       "      <td>0.760</td>\n",
       "    </tr>\n",
       "    <tr>\n",
       "      <th>31</th>\n",
       "      <td>New Mexico</td>\n",
       "      <td>0.800</td>\n",
       "    </tr>\n",
       "    <tr>\n",
       "      <th>41</th>\n",
       "      <td>South Dakota</td>\n",
       "      <td>0.815</td>\n",
       "    </tr>\n",
       "    <tr>\n",
       "      <th>4</th>\n",
       "      <td>California</td>\n",
       "      <td>0.855</td>\n",
       "    </tr>\n",
       "    <tr>\n",
       "      <th>37</th>\n",
       "      <td>Oregon</td>\n",
       "      <td>0.865</td>\n",
       "    </tr>\n",
       "    <tr>\n",
       "      <th>48</th>\n",
       "      <td>West Virginia</td>\n",
       "      <td>0.880</td>\n",
       "    </tr>\n",
       "    <tr>\n",
       "      <th>45</th>\n",
       "      <td>Vermont</td>\n",
       "      <td>0.885</td>\n",
       "    </tr>\n",
       "    <tr>\n",
       "      <th>38</th>\n",
       "      <td>Pennsylvania</td>\n",
       "      <td>0.890</td>\n",
       "    </tr>\n",
       "    <tr>\n",
       "      <th>1</th>\n",
       "      <td>Alaska</td>\n",
       "      <td>0.895</td>\n",
       "    </tr>\n",
       "    <tr>\n",
       "      <th>46</th>\n",
       "      <td>Virginia</td>\n",
       "      <td>0.930</td>\n",
       "    </tr>\n",
       "    <tr>\n",
       "      <th>47</th>\n",
       "      <td>Washington</td>\n",
       "      <td>0.930</td>\n",
       "    </tr>\n",
       "    <tr>\n",
       "      <th>2</th>\n",
       "      <td>Arizona</td>\n",
       "      <td>0.935</td>\n",
       "    </tr>\n",
       "  </tbody>\n",
       "</table>\n",
       "</div>"
      ],
      "text/plain": [
       "            State  combined_participation_avg\n",
       "15           Iowa                       0.700\n",
       "16         Kansas                       0.760\n",
       "31     New Mexico                       0.800\n",
       "41   South Dakota                       0.815\n",
       "4      California                       0.855\n",
       "37         Oregon                       0.865\n",
       "48  West Virginia                       0.880\n",
       "45        Vermont                       0.885\n",
       "38   Pennsylvania                       0.890\n",
       "1          Alaska                       0.895\n",
       "46       Virginia                       0.930\n",
       "47     Washington                       0.930\n",
       "2         Arizona                       0.935"
      ]
     },
     "execution_count": 36,
     "metadata": {},
     "output_type": "execute_result"
    }
   ],
   "source": [
    "final_merged[final_merged['combined_participation_avg']< 0.9425][[\"State\", 'combined_participation_avg']].sort_values(by = 'combined_participation_avg')"
   ]
  },
  {
   "cell_type": "markdown",
   "metadata": {},
   "source": [
    "#### Preliminary shortlist"
   ]
  },
  {
   "cell_type": "markdown",
   "metadata": {},
   "source": [
    "The preliminary shortlisted states for each Group are:\n",
    "* Group 1 (low SAT participation, high SAT score) : Arizona, Iowa, Kansas, New Mexico and South Dakota (Iowa)\n",
    "* Group 2 (low SAT participation, low SAT score) : Alaska and West Virginia (Alaska)\n",
    "* Group 3 (high sat participation, high SAT score) : Oregon, Vermont (Oregon) \n",
    "* Group 4 (high sat participation, low SAT score) : Alaska, California, Pennsylvania, Washington (California)"
   ]
  },
  {
   "cell_type": "markdown",
   "metadata": {},
   "source": [
    "#### Shortening to one state from each group for testing\n",
    "\n",
    "As a small scale initial trial, only one state is suggested to conduct the trial.\n",
    "\n",
    "The following is a proposed priority list of conditions for selection (most important on top):\n",
    "1. No existing state support for ACT or SAT \n",
    "2. Standardised tests participation rate - lower the better, to reduce competition with ACT; lower value more representative \n",
    "3. SAT participation rate - the lower the better (more room for improvement)\n",
    "4. Average SAT score - due to negative correlation with participation rate, expect SAT scores to be skewed higher\n",
    "\n",
    "#### Applying conditions to 4 groups\n",
    "* For Group 1, as priority is given to state with lowest participation rate in all standardised test, Iowa is chosen over the rest.\n",
    "* For Group 2, as West Virginia has started state support for SAT in 2018, it is not a relevant candidate to target to increase SAT participation. Alaska does not provide state support for SAT or ACT. Alaska is chosen for Group 2. \n",
    "* For Group 3, Oregon and Vermont have similar standardised test participation rate (0.865, 0.885) and SAT scores (1112.5, 1117) but different SAT participation rate (0.455, 0.620). As lower SAT participation rate is prioritised, Oregon is chosen for Group 3.\n",
    "* For Group 4, California is chosen as it has the lowest standardised test participation rate, which has been prioritised.\n",
    "\n",
    "In summary, the states chosen for testing in each group are:\n",
    "* Group 1: Iowa\n",
    "* Group 2: Alaska\n",
    "* Group 3: Oregon\n",
    "* Group 4: California"
   ]
  },
  {
   "cell_type": "code",
   "execution_count": 37,
   "metadata": {},
   "outputs": [
    {
     "data": {
      "text/html": [
       "<div>\n",
       "<style scoped>\n",
       "    .dataframe tbody tr th:only-of-type {\n",
       "        vertical-align: middle;\n",
       "    }\n",
       "\n",
       "    .dataframe tbody tr th {\n",
       "        vertical-align: top;\n",
       "    }\n",
       "\n",
       "    .dataframe thead th {\n",
       "        text-align: right;\n",
       "    }\n",
       "</style>\n",
       "<table border=\"1\" class=\"dataframe\">\n",
       "  <thead>\n",
       "    <tr style=\"text-align: right;\">\n",
       "      <th></th>\n",
       "      <th>State</th>\n",
       "      <th>combined_participation_avg</th>\n",
       "      <th>sat_participation_avg</th>\n",
       "      <th>sat_total_average</th>\n",
       "    </tr>\n",
       "  </thead>\n",
       "  <tbody>\n",
       "    <tr>\n",
       "      <th>1</th>\n",
       "      <td>Alaska</td>\n",
       "      <td>0.895</td>\n",
       "      <td>0.405</td>\n",
       "      <td>1093.0</td>\n",
       "    </tr>\n",
       "    <tr>\n",
       "      <th>4</th>\n",
       "      <td>California</td>\n",
       "      <td>0.855</td>\n",
       "      <td>0.565</td>\n",
       "      <td>1065.5</td>\n",
       "    </tr>\n",
       "    <tr>\n",
       "      <th>15</th>\n",
       "      <td>Iowa</td>\n",
       "      <td>0.700</td>\n",
       "      <td>0.025</td>\n",
       "      <td>1270.0</td>\n",
       "    </tr>\n",
       "    <tr>\n",
       "      <th>31</th>\n",
       "      <td>New Mexico</td>\n",
       "      <td>0.800</td>\n",
       "      <td>0.135</td>\n",
       "      <td>1115.5</td>\n",
       "    </tr>\n",
       "    <tr>\n",
       "      <th>37</th>\n",
       "      <td>Oregon</td>\n",
       "      <td>0.865</td>\n",
       "      <td>0.455</td>\n",
       "      <td>1112.5</td>\n",
       "    </tr>\n",
       "  </tbody>\n",
       "</table>\n",
       "</div>"
      ],
      "text/plain": [
       "         State  combined_participation_avg  sat_participation_avg  \\\n",
       "1       Alaska                       0.895                  0.405   \n",
       "4   California                       0.855                  0.565   \n",
       "15        Iowa                       0.700                  0.025   \n",
       "31  New Mexico                       0.800                  0.135   \n",
       "37      Oregon                       0.865                  0.455   \n",
       "\n",
       "    sat_total_average  \n",
       "1              1093.0  \n",
       "4              1065.5  \n",
       "15             1270.0  \n",
       "31             1115.5  \n",
       "37             1112.5  "
      ]
     },
     "execution_count": 37,
     "metadata": {},
     "output_type": "execute_result"
    }
   ],
   "source": [
    "#checking properties of shortlisted states\n",
    "final_merged[final_merged[\"State\"].isin([\"Iowa\", \"Alaska\", \"Oregon\", \"California\", \"New Mexico\", ])][[\n",
    "    'State','combined_participation_avg', 'sat_participation_avg', 'sat_total_average' ]]"
   ]
  },
  {
   "cell_type": "markdown",
   "metadata": {},
   "source": [
    "#### Refining shortlisted states"
   ]
  },
  {
   "cell_type": "markdown",
   "metadata": {},
   "source": [
    "Examining the properties of the identified states, Alaska stands out as having a relatively high standardised test participation of 89.5%, even though that falls under the 25th percentile, which would make it a weak candidate under our first criteria for shortlisting. New Mexico is a suitable candidate to replace Alaska, as it has a much lower participation of 80%. The SAT average only falls slightly short of the 50th percentile (56th percentile). The SAT participation rate is even lower than Alaska, which makes it suitable to represent Group 2. \n",
    "\n",
    "The final list of identified states for trial testing are: \n",
    "\n",
    "* Group 1 (low SAT participation, high SAT score) : Iowa\n",
    "* Group 2 (low SAT participation, low SAT score) : New Mexico (to replace Alaska)\n",
    "* Group 3 (high SAT participation, high SAT score) : Oregon\n",
    "* Group 4 (high SAT participation, low SAT score) : California"
   ]
  },
  {
   "cell_type": "code",
   "execution_count": 38,
   "metadata": {},
   "outputs": [
    {
     "data": {
      "text/html": [
       "<div>\n",
       "<style scoped>\n",
       "    .dataframe tbody tr th:only-of-type {\n",
       "        vertical-align: middle;\n",
       "    }\n",
       "\n",
       "    .dataframe tbody tr th {\n",
       "        vertical-align: top;\n",
       "    }\n",
       "\n",
       "    .dataframe thead th {\n",
       "        text-align: right;\n",
       "    }\n",
       "</style>\n",
       "<table border=\"1\" class=\"dataframe\">\n",
       "  <thead>\n",
       "    <tr style=\"text-align: right;\">\n",
       "      <th></th>\n",
       "      <th>State</th>\n",
       "      <th>combined_participation_avg</th>\n",
       "      <th>sat_participation_avg</th>\n",
       "      <th>sat_total_average</th>\n",
       "    </tr>\n",
       "  </thead>\n",
       "  <tbody>\n",
       "    <tr>\n",
       "      <th>4</th>\n",
       "      <td>California</td>\n",
       "      <td>0.855</td>\n",
       "      <td>0.565</td>\n",
       "      <td>1065.5</td>\n",
       "    </tr>\n",
       "    <tr>\n",
       "      <th>15</th>\n",
       "      <td>Iowa</td>\n",
       "      <td>0.700</td>\n",
       "      <td>0.025</td>\n",
       "      <td>1270.0</td>\n",
       "    </tr>\n",
       "    <tr>\n",
       "      <th>31</th>\n",
       "      <td>New Mexico</td>\n",
       "      <td>0.800</td>\n",
       "      <td>0.135</td>\n",
       "      <td>1115.5</td>\n",
       "    </tr>\n",
       "    <tr>\n",
       "      <th>37</th>\n",
       "      <td>Oregon</td>\n",
       "      <td>0.865</td>\n",
       "      <td>0.455</td>\n",
       "      <td>1112.5</td>\n",
       "    </tr>\n",
       "  </tbody>\n",
       "</table>\n",
       "</div>"
      ],
      "text/plain": [
       "         State  combined_participation_avg  sat_participation_avg  \\\n",
       "4   California                       0.855                  0.565   \n",
       "15        Iowa                       0.700                  0.025   \n",
       "31  New Mexico                       0.800                  0.135   \n",
       "37      Oregon                       0.865                  0.455   \n",
       "\n",
       "    sat_total_average  \n",
       "4              1065.5  \n",
       "15             1270.0  \n",
       "31             1115.5  \n",
       "37             1112.5  "
      ]
     },
     "execution_count": 38,
     "metadata": {},
     "output_type": "execute_result"
    }
   ],
   "source": [
    "#checking properties of final shortlisted states\n",
    "final_merged[final_merged[\"State\"].isin([\"Iowa\", \"Oregon\", \"California\", \"New Mexico\", ])][['State','combined_participation_avg', 'sat_participation_avg', 'sat_total_average' ]]"
   ]
  },
  {
   "cell_type": "markdown",
   "metadata": {},
   "source": [
    "## Conclusions and Recommendations"
   ]
  },
  {
   "cell_type": "markdown",
   "metadata": {},
   "source": [
    "__Key trends observed in datasets:__\n",
    "\n",
    "* Participation rates tend to correlate negatively with total score for both ACT and SAT in both years. Higher participation usually leads to greater spread in candidate abilities, which likely causes a decrease in mean total score.\n",
    "\n",
    "* ACT and SAT participation rates tend to be negatively correlated. This is likely because most students tend to take either one of the test before high school graduation.\n",
    "\n",
    "__Recommendations__\n",
    "\n",
    "This study suggests taking a calibrated approach to identifying factors that could influence SAT adoption, to help College Board decide which states to invest resources into to raise SAT participation rate. A small scale trial targeting 4 initial states is proposed. These states were identified based on the factors of state-wide participation in standardised tests, SAT participation rate and SAT scores, based on state-level data for SAT and ACT in 2017 and 2018. Favorable combinations of factors could be further investigated in future studies to enhance College Board's understanding of factors to  raise the effectivness of campaigns to improve SAT participation rates. Further examination into states which do not conform strongly to the larger trend on participation rates and scores could raise interesting insights.   \n",
    "\n",
    "The final list of identified states for initial testing are:\n",
    "\n",
    "* Group 1 (low SAT participation, high SAT score) : Iowa\n",
    "* Group 2 (low SAT participation, low SAT score) : New Mexico\n",
    "* Group 3 (high SAT participation, high SAT score) : Oregon\n",
    "* Group 4 (high SAT participation, low SAT score) : California"
   ]
  }
 ],
 "metadata": {
  "anaconda-cloud": {},
  "kernelspec": {
   "display_name": "Python 3 (ipykernel)",
   "language": "python",
   "name": "python3"
  },
  "language_info": {
   "codemirror_mode": {
    "name": "ipython",
    "version": 3
   },
   "file_extension": ".py",
   "mimetype": "text/x-python",
   "name": "python",
   "nbconvert_exporter": "python",
   "pygments_lexer": "ipython3",
   "version": "3.9.7"
  }
 },
 "nbformat": 4,
 "nbformat_minor": 4
}
